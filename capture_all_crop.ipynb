{
 "cells": [
  {
   "cell_type": "code",
   "execution_count": 1,
   "id": "9fc51db6",
   "metadata": {},
   "outputs": [],
   "source": [
    "import random\n",
    "import os\n",
    "import ssl\n",
    "import cv2\n",
    "import numpy as np\n",
    "import imageio\n",
    "from IPython import display\n",
    "from urllib import request\n",
    "import re\n",
    "import tempfile\n",
    "import math\n",
    "from tqdm.notebook import tqdm"
   ]
  },
  {
   "cell_type": "code",
   "execution_count": 2,
   "id": "aa8f2a31",
   "metadata": {},
   "outputs": [
    {
     "name": "stderr",
     "output_type": "stream",
     "text": [
      "Enabling notebook extension jupyter-js-widgets/extension...\n",
      "      - Validating: ok\n"
     ]
    }
   ],
   "source": [
    "!jupyter nbextension enable --py widgetsnbextension"
   ]
  },
  {
   "cell_type": "code",
   "execution_count": 3,
   "id": "51b1a089",
   "metadata": {},
   "outputs": [],
   "source": [
    "# fetch videos from UCF101 dataset\n",
    "UCF_ROOT = \"https://www.crcv.ucf.edu/THUMOS14/UCF101/UCF101/\"\n",
    "_VIDEO_LIST = None\n",
    "unverified_context = ssl._create_unverified_context()\n",
    "UCF_DATA_FOLDER = r\"C:\\Users\\hikar\\Documents\\UCF_101\"\n",
    "\n",
    "def list_ucf_videos():\n",
    "    global _VIDEO_LIST\n",
    "    if not _VIDEO_LIST:\n",
    "        index = request.urlopen(UCF_ROOT, context=unverified_context).read().decode(\"utf-8\")\n",
    "        videos = re.findall(\"(v_[\\w_]+\\.avi)\", index)\n",
    "        _VIDEO_LIST = sorted(set(videos))\n",
    "    return list(_VIDEO_LIST)\n",
    "\n",
    "def fetch_ucf_video(video):\n",
    "    action_dir = video.split('_')[1]\n",
    "    if action_dir == \"HandstandPushups\":\n",
    "      action_dir = \"HandStandPushups\"\n",
    "      text_list = video.split('_')\n",
    "      base_video_path = text_list[0]+ '_' + action_dir + '_' + text_list[2] + '_' + text_list[3]\n",
    "      video_path = os.path.join(UCF_DATA_FOLDER,action_dir,base_video_path)\n",
    "      return video_path\n",
    "    \n",
    "    video_path = os.path.join(UCF_DATA_FOLDER,action_dir,video)\n",
    "    return video_path\n",
    "  \n",
    "def path_modify(video):\n",
    "  action_dir = video.split('_')[1]\n",
    "  if action_dir == \"HandstandPushups\":\n",
    "      action_dir = \"HandStandPushups\"\n",
    "      text_list = video.split('_')\n",
    "      base_video_path = text_list[0]+ '_' + action_dir + '_' + text_list[2] + '_' + text_list[3]\n",
    "      print(base_video_path)\n",
    "      return base_video_path\n",
    "  \n",
    "  return video"
   ]
  },
  {
   "cell_type": "code",
   "execution_count": 4,
   "id": "8e1845b3",
   "metadata": {},
   "outputs": [],
   "source": [
    "# Get video.\n",
    "def video_folder_capture(base_path):\n",
    "  video_path = fetch_ucf_video(base_path)\n",
    "  return video_path"
   ]
  },
  {
   "cell_type": "code",
   "execution_count": 5,
   "id": "db8795b6",
   "metadata": {},
   "outputs": [],
   "source": [
    "def fetch_ucf_action_list():\n",
    "  cache_list = []\n",
    "  video_list = list_ucf_videos()\n",
    "  for path in video_list:\n",
    "    action_dir = path.split('_')[1]\n",
    "    if action_dir == \"HandstandPushups\":\n",
    "      action_dir = \"HandStandPushups\"\n",
    "    cache_list.append(action_dir)\n",
    "  cache_list = set(cache_list)\n",
    "  cache_list = list(cache_list)\n",
    "  cache_list.sort()\n",
    "  return cache_list"
   ]
  },
  {
   "cell_type": "code",
   "execution_count": 6,
   "id": "f9c5d4ce",
   "metadata": {},
   "outputs": [
    {
     "name": "stdout",
     "output_type": "stream",
     "text": [
      "['ApplyEyeMakeup', 'ApplyLipstick', 'Archery', 'BabyCrawling', 'BalanceBeam', 'BandMarching', 'BaseballPitch', 'Basketball', 'BasketballDunk', 'BenchPress', 'Biking', 'Billiards', 'BlowDryHair', 'BlowingCandles', 'BodyWeightSquats', 'Bowling', 'BoxingPunchingBag', 'BoxingSpeedBag', 'BreastStroke', 'BrushingTeeth', 'CleanAndJerk', 'CliffDiving', 'CricketBowling', 'CricketShot', 'CuttingInKitchen', 'Diving', 'Drumming', 'Fencing', 'FieldHockeyPenalty', 'FloorGymnastics', 'FrisbeeCatch', 'FrontCrawl', 'GolfSwing', 'Haircut', 'HammerThrow', 'Hammering', 'HandStandPushups', 'HandstandWalking', 'HeadMassage', 'HighJump', 'HorseRace', 'HorseRiding', 'HulaHoop', 'IceDancing', 'JavelinThrow', 'JugglingBalls', 'JumpRope', 'JumpingJack', 'Kayaking', 'Knitting', 'LongJump', 'Lunges', 'MilitaryParade', 'Mixing', 'MoppingFloor', 'Nunchucks', 'ParallelBars', 'PizzaTossing', 'PlayingCello', 'PlayingDaf', 'PlayingDhol', 'PlayingFlute', 'PlayingGuitar', 'PlayingPiano', 'PlayingSitar', 'PlayingTabla', 'PlayingViolin', 'PoleVault', 'PommelHorse', 'PullUps', 'Punch', 'PushUps', 'Rafting', 'RockClimbingIndoor', 'RopeClimbing', 'Rowing', 'SalsaSpin', 'ShavingBeard', 'Shotput', 'SkateBoarding', 'Skiing', 'Skijet', 'SkyDiving', 'SoccerJuggling', 'SoccerPenalty', 'StillRings', 'SumoWrestling', 'Surfing', 'Swing', 'TableTennisShot', 'TaiChi', 'TennisSwing', 'ThrowDiscus', 'TrampolineJumping', 'Typing', 'UnevenBars', 'VolleyballSpiking', 'WalkingWithDog', 'WallPushups', 'WritingOnBoard', 'YoYo']\n",
      "['ApplyEyeMakeup', 'ApplyLipstick', 'Archery', 'BabyCrawling', 'BalanceBeam', 'BandMarching', 'BaseballPitch', 'Basketball', 'BasketballDunk', 'BenchPress', 'Biking', 'Billiards', 'BlowDryHair', 'BlowingCandles', 'BodyWeightSquats', 'Bowling', 'BoxingPunchingBag', 'BoxingSpeedBag', 'BreastStroke', 'BrushingTeeth', 'CleanAndJerk', 'CliffDiving', 'CricketBowling', 'CricketShot', 'CuttingInKitchen', 'Diving', 'Drumming', 'Fencing', 'FieldHockeyPenalty', 'FloorGymnastics', 'FrisbeeCatch', 'FrontCrawl', 'GolfSwing', 'Haircut', 'HammerThrow', 'Hammering', 'HandStandPushups', 'HandstandWalking', 'HeadMassage', 'HighJump', 'HorseRace', 'HorseRiding', 'HulaHoop', 'IceDancing', 'JavelinThrow', 'JugglingBalls', 'JumpRope', 'JumpingJack', 'Kayaking', 'Knitting']\n",
      "['LongJump', 'Lunges', 'MilitaryParade', 'Mixing', 'MoppingFloor', 'Nunchucks', 'ParallelBars', 'PizzaTossing', 'PlayingCello', 'PlayingDaf', 'PlayingDhol', 'PlayingFlute', 'PlayingGuitar', 'PlayingPiano', 'PlayingSitar', 'PlayingTabla', 'PlayingViolin', 'PoleVault', 'PommelHorse', 'PullUps', 'Punch', 'PushUps', 'Rafting', 'RockClimbingIndoor', 'RopeClimbing', 'Rowing', 'SalsaSpin', 'ShavingBeard', 'Shotput', 'SkateBoarding', 'Skiing', 'Skijet', 'SkyDiving', 'SoccerJuggling', 'SoccerPenalty', 'StillRings', 'SumoWrestling', 'Surfing', 'Swing', 'TableTennisShot', 'TaiChi', 'TennisSwing', 'ThrowDiscus', 'TrampolineJumping', 'Typing', 'UnevenBars', 'VolleyballSpiking', 'WalkingWithDog', 'WallPushups', 'WritingOnBoard', 'YoYo']\n"
     ]
    }
   ],
   "source": [
    "action_list = fetch_ucf_action_list()\n",
    "print(action_list)\n",
    "print(action_list[0:50])\n",
    "print(action_list[50:101])"
   ]
  },
  {
   "cell_type": "code",
   "execution_count": 7,
   "id": "c837ecf4",
   "metadata": {},
   "outputs": [],
   "source": [
    "def Fixed_list_ucf(classify = \"Fixed\",div = 0):\n",
    "    cache_list = []\n",
    "    action_list = fetch_ucf_action_list()\n",
    "#     if div == 0:\n",
    "#         action_list = action_list[0:50]\n",
    "#     else:\n",
    "#         action_list = action_list[50:101]\n",
    "\n",
    "    classify_dir = os.path.join(r\"C:\\Users\\hikar\\Documents\\Classified_UCF101\",classify+\"_Camera\")\n",
    "    for action in action_list:\n",
    "        action_path = os.path.join(classify_dir,action)\n",
    "        each_video_list = os.listdir(action_path)\n",
    "        cache_list.append(each_video_list)\n",
    "    return np.hstack(cache_list)"
   ]
  },
  {
   "cell_type": "code",
   "execution_count": 8,
   "id": "b0f43672",
   "metadata": {},
   "outputs": [],
   "source": [
    "def crop_square(frame):\n",
    "    height,width  = frame.shape[0:2]\n",
    "    min_dim = min(height, width)\n",
    "    start_height = 0\n",
    "    start_width = (max(height, width)-min(height, width))//2\n",
    "    \n",
    "    return frame[start_height:start_height+min_dim,start_width:start_width+min_dim]"
   ]
  },
  {
   "cell_type": "code",
   "execution_count": 9,
   "id": "a0bdff75",
   "metadata": {},
   "outputs": [],
   "source": [
    "def capture_frames_from_video(videofile,classify = \"Fixed\"):\n",
    "\n",
    "    action_dir = os.path.basename(os.path.dirname(videofile))\n",
    "    \n",
    "    vidcap = cv2.VideoCapture(videofile)\n",
    "    success,image = vidcap.read()\n",
    "    count = 0\n",
    "    file_name  = os.path.basename(os.path.splitext(videofile)[0])#v_VolleyballSpiking_g01_c01を取り出す\n",
    "\n",
    "    \n",
    "    \n",
    "    if not os.path.isdir(os.path.join(r\"C:\\Users\\hikar\\Documents\\capture_all_croped\" , classify , action_dir)):\n",
    "        os.makedirs(os.path.join(r\"C:\\Users\\hikar\\Documents\\capture_all_croped\" , classify , action_dir))\n",
    "        print(os.path.join(r\"C:\\Users\\hikar\\Documents\\capture_all_croped\" , classify , action_dir))\n",
    "        \n",
    "    while success:\n",
    "        if not os.path.isdir(os.path.join(r\"C:\\Users\\hikar\\Documents\\capture_all_croped\" , classify , action_dir, \"frames_%s\" % (file_name))):\n",
    "            os.makedirs(os.path.join(r\"C:\\Users\\hikar\\Documents\\capture_all_croped\" , classify , action_dir, \"frames_%s\" % (file_name)))\n",
    "        \n",
    "        croped_image = crop_square(image)\n",
    "        resized_image = cv2.resize(croped_image,(64,64))\n",
    "        \n",
    "        \n",
    "        if not os.path.isfile(os.path.join(r\"C:\\Users\\hikar\\Documents\\capture_all_croped\" , classify , action_dir, \"frames_%s\\%s.png\" % (file_name,str(count).zfill(6)))):\n",
    "            cv2.imwrite(os.path.join(r\"C:\\Users\\hikar\\Documents\\capture_all_croped\" , classify , action_dir, \"frames_%s\\%s.png\" % (file_name,str(count).zfill(6))), resized_image)\n",
    "     \n",
    "        success,image = vidcap.read()\n",
    "        count += 1\n",
    "        \n",
    "    return vidcap.get(cv2.CAP_PROP_FPS)"
   ]
  },
  {
   "cell_type": "code",
   "execution_count": 10,
   "id": "d9f4fdb8",
   "metadata": {},
   "outputs": [
    {
     "data": {
      "application/vnd.jupyter.widget-view+json": {
       "model_id": "ee8fc221a97d4f44ac81c17a109bcee6",
       "version_major": 2,
       "version_minor": 0
      },
      "text/plain": [
       "  0%|          | 0/6831 [00:00<?, ?it/s]"
      ]
     },
     "metadata": {},
     "output_type": "display_data"
    },
    {
     "name": "stdout",
     "output_type": "stream",
     "text": [
      "C:\\Users\\hikar\\Documents\\capture_all_croped\\Fixed\\ApplyEyeMakeup\n",
      "C:\\Users\\hikar\\Documents\\capture_all_croped\\Fixed\\ApplyLipstick\n",
      "C:\\Users\\hikar\\Documents\\capture_all_croped\\Fixed\\Archery\n",
      "C:\\Users\\hikar\\Documents\\capture_all_croped\\Fixed\\BabyCrawling\n",
      "C:\\Users\\hikar\\Documents\\capture_all_croped\\Fixed\\BalanceBeam\n",
      "C:\\Users\\hikar\\Documents\\capture_all_croped\\Fixed\\BandMarching\n",
      "C:\\Users\\hikar\\Documents\\capture_all_croped\\Fixed\\BaseballPitch\n",
      "C:\\Users\\hikar\\Documents\\capture_all_croped\\Fixed\\Basketball\n",
      "C:\\Users\\hikar\\Documents\\capture_all_croped\\Fixed\\BasketballDunk\n",
      "C:\\Users\\hikar\\Documents\\capture_all_croped\\Fixed\\BenchPress\n",
      "C:\\Users\\hikar\\Documents\\capture_all_croped\\Fixed\\Biking\n",
      "C:\\Users\\hikar\\Documents\\capture_all_croped\\Fixed\\Billiards\n",
      "C:\\Users\\hikar\\Documents\\capture_all_croped\\Fixed\\BlowDryHair\n",
      "C:\\Users\\hikar\\Documents\\capture_all_croped\\Fixed\\BlowingCandles\n",
      "C:\\Users\\hikar\\Documents\\capture_all_croped\\Fixed\\BodyWeightSquats\n",
      "C:\\Users\\hikar\\Documents\\capture_all_croped\\Fixed\\Bowling\n",
      "C:\\Users\\hikar\\Documents\\capture_all_croped\\Fixed\\BoxingPunchingBag\n",
      "C:\\Users\\hikar\\Documents\\capture_all_croped\\Fixed\\BoxingSpeedBag\n",
      "C:\\Users\\hikar\\Documents\\capture_all_croped\\Fixed\\BreastStroke\n",
      "C:\\Users\\hikar\\Documents\\capture_all_croped\\Fixed\\BrushingTeeth\n",
      "C:\\Users\\hikar\\Documents\\capture_all_croped\\Fixed\\CleanAndJerk\n",
      "C:\\Users\\hikar\\Documents\\capture_all_croped\\Fixed\\CliffDiving\n",
      "C:\\Users\\hikar\\Documents\\capture_all_croped\\Fixed\\CricketBowling\n",
      "C:\\Users\\hikar\\Documents\\capture_all_croped\\Fixed\\CricketShot\n",
      "C:\\Users\\hikar\\Documents\\capture_all_croped\\Fixed\\CuttingInKitchen\n",
      "C:\\Users\\hikar\\Documents\\capture_all_croped\\Fixed\\Diving\n",
      "C:\\Users\\hikar\\Documents\\capture_all_croped\\Fixed\\Drumming\n",
      "C:\\Users\\hikar\\Documents\\capture_all_croped\\Fixed\\Fencing\n",
      "C:\\Users\\hikar\\Documents\\capture_all_croped\\Fixed\\FieldHockeyPenalty\n",
      "C:\\Users\\hikar\\Documents\\capture_all_croped\\Fixed\\FloorGymnastics\n",
      "C:\\Users\\hikar\\Documents\\capture_all_croped\\Fixed\\FrisbeeCatch\n",
      "C:\\Users\\hikar\\Documents\\capture_all_croped\\Fixed\\FrontCrawl\n",
      "C:\\Users\\hikar\\Documents\\capture_all_croped\\Fixed\\GolfSwing\n",
      "C:\\Users\\hikar\\Documents\\capture_all_croped\\Fixed\\Haircut\n",
      "C:\\Users\\hikar\\Documents\\capture_all_croped\\Fixed\\HammerThrow\n",
      "C:\\Users\\hikar\\Documents\\capture_all_croped\\Fixed\\Hammering\n",
      "C:\\Users\\hikar\\Documents\\capture_all_croped\\Fixed\\HandStandPushups\n",
      "C:\\Users\\hikar\\Documents\\capture_all_croped\\Fixed\\HandstandWalking\n",
      "C:\\Users\\hikar\\Documents\\capture_all_croped\\Fixed\\HeadMassage\n",
      "C:\\Users\\hikar\\Documents\\capture_all_croped\\Fixed\\HighJump\n",
      "C:\\Users\\hikar\\Documents\\capture_all_croped\\Fixed\\HorseRace\n",
      "C:\\Users\\hikar\\Documents\\capture_all_croped\\Fixed\\HorseRiding\n",
      "C:\\Users\\hikar\\Documents\\capture_all_croped\\Fixed\\HulaHoop\n",
      "C:\\Users\\hikar\\Documents\\capture_all_croped\\Fixed\\IceDancing\n",
      "C:\\Users\\hikar\\Documents\\capture_all_croped\\Fixed\\JavelinThrow\n",
      "C:\\Users\\hikar\\Documents\\capture_all_croped\\Fixed\\JugglingBalls\n",
      "C:\\Users\\hikar\\Documents\\capture_all_croped\\Fixed\\JumpRope\n",
      "C:\\Users\\hikar\\Documents\\capture_all_croped\\Fixed\\JumpingJack\n",
      "C:\\Users\\hikar\\Documents\\capture_all_croped\\Fixed\\Kayaking\n",
      "C:\\Users\\hikar\\Documents\\capture_all_croped\\Fixed\\Knitting\n",
      "C:\\Users\\hikar\\Documents\\capture_all_croped\\Fixed\\LongJump\n",
      "C:\\Users\\hikar\\Documents\\capture_all_croped\\Fixed\\Lunges\n",
      "C:\\Users\\hikar\\Documents\\capture_all_croped\\Fixed\\MilitaryParade\n",
      "C:\\Users\\hikar\\Documents\\capture_all_croped\\Fixed\\Mixing\n",
      "C:\\Users\\hikar\\Documents\\capture_all_croped\\Fixed\\MoppingFloor\n",
      "C:\\Users\\hikar\\Documents\\capture_all_croped\\Fixed\\Nunchucks\n",
      "C:\\Users\\hikar\\Documents\\capture_all_croped\\Fixed\\ParallelBars\n",
      "C:\\Users\\hikar\\Documents\\capture_all_croped\\Fixed\\PizzaTossing\n",
      "C:\\Users\\hikar\\Documents\\capture_all_croped\\Fixed\\PlayingCello\n",
      "C:\\Users\\hikar\\Documents\\capture_all_croped\\Fixed\\PlayingDaf\n",
      "C:\\Users\\hikar\\Documents\\capture_all_croped\\Fixed\\PlayingDhol\n",
      "C:\\Users\\hikar\\Documents\\capture_all_croped\\Fixed\\PlayingFlute\n",
      "C:\\Users\\hikar\\Documents\\capture_all_croped\\Fixed\\PlayingGuitar\n",
      "C:\\Users\\hikar\\Documents\\capture_all_croped\\Fixed\\PlayingPiano\n",
      "C:\\Users\\hikar\\Documents\\capture_all_croped\\Fixed\\PlayingSitar\n",
      "C:\\Users\\hikar\\Documents\\capture_all_croped\\Fixed\\PlayingTabla\n",
      "C:\\Users\\hikar\\Documents\\capture_all_croped\\Fixed\\PlayingViolin\n",
      "C:\\Users\\hikar\\Documents\\capture_all_croped\\Fixed\\PoleVault\n",
      "C:\\Users\\hikar\\Documents\\capture_all_croped\\Fixed\\PommelHorse\n",
      "C:\\Users\\hikar\\Documents\\capture_all_croped\\Fixed\\PullUps\n",
      "C:\\Users\\hikar\\Documents\\capture_all_croped\\Fixed\\Punch\n",
      "C:\\Users\\hikar\\Documents\\capture_all_croped\\Fixed\\PushUps\n",
      "C:\\Users\\hikar\\Documents\\capture_all_croped\\Fixed\\Rafting\n",
      "C:\\Users\\hikar\\Documents\\capture_all_croped\\Fixed\\RockClimbingIndoor\n",
      "C:\\Users\\hikar\\Documents\\capture_all_croped\\Fixed\\RopeClimbing\n",
      "C:\\Users\\hikar\\Documents\\capture_all_croped\\Fixed\\Rowing\n",
      "C:\\Users\\hikar\\Documents\\capture_all_croped\\Fixed\\SalsaSpin\n",
      "C:\\Users\\hikar\\Documents\\capture_all_croped\\Fixed\\ShavingBeard\n",
      "C:\\Users\\hikar\\Documents\\capture_all_croped\\Fixed\\Shotput\n",
      "C:\\Users\\hikar\\Documents\\capture_all_croped\\Fixed\\SkateBoarding\n",
      "C:\\Users\\hikar\\Documents\\capture_all_croped\\Fixed\\Skiing\n",
      "C:\\Users\\hikar\\Documents\\capture_all_croped\\Fixed\\Skijet\n",
      "C:\\Users\\hikar\\Documents\\capture_all_croped\\Fixed\\SkyDiving\n",
      "C:\\Users\\hikar\\Documents\\capture_all_croped\\Fixed\\SoccerJuggling\n",
      "C:\\Users\\hikar\\Documents\\capture_all_croped\\Fixed\\SoccerPenalty\n",
      "C:\\Users\\hikar\\Documents\\capture_all_croped\\Fixed\\StillRings\n",
      "C:\\Users\\hikar\\Documents\\capture_all_croped\\Fixed\\SumoWrestling\n",
      "C:\\Users\\hikar\\Documents\\capture_all_croped\\Fixed\\Surfing\n",
      "C:\\Users\\hikar\\Documents\\capture_all_croped\\Fixed\\Swing\n",
      "C:\\Users\\hikar\\Documents\\capture_all_croped\\Fixed\\TableTennisShot\n",
      "C:\\Users\\hikar\\Documents\\capture_all_croped\\Fixed\\TaiChi\n",
      "C:\\Users\\hikar\\Documents\\capture_all_croped\\Fixed\\TennisSwing\n",
      "C:\\Users\\hikar\\Documents\\capture_all_croped\\Fixed\\ThrowDiscus\n",
      "C:\\Users\\hikar\\Documents\\capture_all_croped\\Fixed\\TrampolineJumping\n",
      "C:\\Users\\hikar\\Documents\\capture_all_croped\\Fixed\\Typing\n",
      "C:\\Users\\hikar\\Documents\\capture_all_croped\\Fixed\\UnevenBars\n",
      "C:\\Users\\hikar\\Documents\\capture_all_croped\\Fixed\\VolleyballSpiking\n",
      "C:\\Users\\hikar\\Documents\\capture_all_croped\\Fixed\\WalkingWithDog\n",
      "C:\\Users\\hikar\\Documents\\capture_all_croped\\Fixed\\WallPushups\n",
      "C:\\Users\\hikar\\Documents\\capture_all_croped\\Fixed\\WritingOnBoard\n",
      "C:\\Users\\hikar\\Documents\\capture_all_croped\\Fixed\\YoYo\n",
      "completed\n"
     ]
    }
   ],
   "source": [
    "#fetch_list = list_ucf_videos()\n",
    "classify = \"Fixed\" #Unfixed#Fixed\n",
    "fetch_list = Fixed_list_ucf(classify,1)#0 or 1\n",
    "\n",
    "for fetch_path in tqdm(fetch_list):\n",
    "  # try:\n",
    "  #   drive.mount('/content/drive', force_remount=True)\n",
    "  # except:\n",
    "  #   pass\n",
    "  fetch_path = path_modify(fetch_path)\n",
    "  video_path = video_folder_capture(fetch_path)\n",
    "  capture_frames_from_video(video_path, classify)\n",
    "print(\"completed\")"
   ]
  },
  {
   "cell_type": "code",
   "execution_count": 11,
   "id": "beef9004",
   "metadata": {},
   "outputs": [
    {
     "name": "stdout",
     "output_type": "stream",
     "text": [
      "6831\n",
      "6489\n"
     ]
    }
   ],
   "source": [
    "u_list = os.listdir(r\"C:\\Users\\hikar\\Documents\\Classified_UCF101\\Fixed_Camera\")\n",
    "num = 0\n",
    "count = 0\n",
    "for i in u_list:\n",
    "    num = len(os.listdir(os.path.join(r\"C:\\Users\\hikar\\Documents\\Classified_UCF101\\Fixed_Camera\",i)))\n",
    "    count += num\n",
    "print(count)\n",
    "\n",
    "\n",
    "u_list = os.listdir(r\"C:\\Users\\hikar\\Documents\\Classified_UCF101\\Unfixed_Camera\")\n",
    "num = 0\n",
    "count = 0\n",
    "for i in u_list:\n",
    "    num = len(os.listdir(os.path.join(r\"C:\\Users\\hikar\\Documents\\Classified_UCF101\\Unfixed_Camera\",i)))\n",
    "    count += num\n",
    "print(count)"
   ]
  },
  {
   "cell_type": "markdown",
   "id": "2d7beb7b",
   "metadata": {},
   "source": [
    "## exp"
   ]
  },
  {
   "cell_type": "code",
   "execution_count": 12,
   "id": "3c5b7bc0",
   "metadata": {},
   "outputs": [],
   "source": [
    "img1=r\"C:\\Users\\hikar\\Documents\\capture_all_frame\\Fixed\\ApplyEyeMakeup\\frames_v_ApplyEyeMakeup_g01_c01\\000000.png\"\n",
    "image = cv2.imread(img1)\n",
    "croped_image = crop_square(image)\n",
    "resized_image = cv2.resize(croped_image,(64,64))"
   ]
  },
  {
   "cell_type": "code",
   "execution_count": 13,
   "id": "4c3521d6",
   "metadata": {},
   "outputs": [
    {
     "data": {
      "text/plain": [
       "array([[[ 81,  65,  63],\n",
       "        [ 81,  65,  63],\n",
       "        [ 80,  64,  62],\n",
       "        ...,\n",
       "        [206, 194, 237],\n",
       "        [204, 194, 237],\n",
       "        [204, 194, 237]],\n",
       "\n",
       "       [[ 81,  65,  63],\n",
       "        [ 81,  65,  63],\n",
       "        [ 80,  64,  62],\n",
       "        ...,\n",
       "        [206, 194, 237],\n",
       "        [204, 194, 237],\n",
       "        [204, 194, 237]],\n",
       "\n",
       "       [[ 81,  65,  63],\n",
       "        [ 81,  65,  63],\n",
       "        [ 80,  64,  62],\n",
       "        ...,\n",
       "        [206, 194, 237],\n",
       "        [204, 194, 237],\n",
       "        [204, 194, 237]],\n",
       "\n",
       "       ...,\n",
       "\n",
       "       [[ 15,   8,  14],\n",
       "        [ 21,  14,  20],\n",
       "        [ 23,  17,  20],\n",
       "        ...,\n",
       "        [ 99,  96, 118],\n",
       "        [102,  99, 121],\n",
       "        [103, 100, 122]],\n",
       "\n",
       "       [[  5,   0,   4],\n",
       "        [  9,   2,   8],\n",
       "        [ 43,  37,  40],\n",
       "        ...,\n",
       "        [ 99,  96, 118],\n",
       "        [102,  99, 121],\n",
       "        [103, 100, 122]],\n",
       "\n",
       "       [[ 20,  13,  19],\n",
       "        [ 20,  13,  19],\n",
       "        [ 64,  58,  61],\n",
       "        ...,\n",
       "        [ 99,  96, 118],\n",
       "        [102,  99, 121],\n",
       "        [103, 100, 122]]], dtype=uint8)"
      ]
     },
     "execution_count": 13,
     "metadata": {},
     "output_type": "execute_result"
    }
   ],
   "source": [
    "image[:,40:280,:]"
   ]
  },
  {
   "cell_type": "code",
   "execution_count": 14,
   "id": "277e02d5",
   "metadata": {},
   "outputs": [
    {
     "data": {
      "text/plain": [
       "array([[[ 81,  65,  63],\n",
       "        [ 81,  65,  63],\n",
       "        [ 80,  64,  62],\n",
       "        ...,\n",
       "        [206, 194, 237],\n",
       "        [204, 194, 237],\n",
       "        [204, 194, 237]],\n",
       "\n",
       "       [[ 81,  65,  63],\n",
       "        [ 81,  65,  63],\n",
       "        [ 80,  64,  62],\n",
       "        ...,\n",
       "        [206, 194, 237],\n",
       "        [204, 194, 237],\n",
       "        [204, 194, 237]],\n",
       "\n",
       "       [[ 81,  65,  63],\n",
       "        [ 81,  65,  63],\n",
       "        [ 80,  64,  62],\n",
       "        ...,\n",
       "        [206, 194, 237],\n",
       "        [204, 194, 237],\n",
       "        [204, 194, 237]],\n",
       "\n",
       "       ...,\n",
       "\n",
       "       [[ 15,   8,  14],\n",
       "        [ 21,  14,  20],\n",
       "        [ 23,  17,  20],\n",
       "        ...,\n",
       "        [ 99,  96, 118],\n",
       "        [102,  99, 121],\n",
       "        [103, 100, 122]],\n",
       "\n",
       "       [[  5,   0,   4],\n",
       "        [  9,   2,   8],\n",
       "        [ 43,  37,  40],\n",
       "        ...,\n",
       "        [ 99,  96, 118],\n",
       "        [102,  99, 121],\n",
       "        [103, 100, 122]],\n",
       "\n",
       "       [[ 20,  13,  19],\n",
       "        [ 20,  13,  19],\n",
       "        [ 64,  58,  61],\n",
       "        ...,\n",
       "        [ 99,  96, 118],\n",
       "        [102,  99, 121],\n",
       "        [103, 100, 122]]], dtype=uint8)"
      ]
     },
     "execution_count": 14,
     "metadata": {},
     "output_type": "execute_result"
    }
   ],
   "source": [
    "croped_image"
   ]
  },
  {
   "cell_type": "code",
   "execution_count": 15,
   "id": "513c6e13",
   "metadata": {
    "scrolled": true
   },
   "outputs": [
    {
     "data": {
      "text/plain": [
       "(64, 64, 3)"
      ]
     },
     "execution_count": 15,
     "metadata": {},
     "output_type": "execute_result"
    }
   ],
   "source": [
    "resized_image.shape"
   ]
  },
  {
   "cell_type": "code",
   "execution_count": 16,
   "id": "cb992e5b",
   "metadata": {},
   "outputs": [
    {
     "data": {
      "text/plain": [
       "True"
      ]
     },
     "execution_count": 16,
     "metadata": {},
     "output_type": "execute_result"
    }
   ],
   "source": [
    "cv2.imwrite(r\"C:\\Users\\hikar\\Documents\\example_fol\\sample.png\",resized_image)"
   ]
  },
  {
   "cell_type": "code",
   "execution_count": null,
   "id": "27cb8229",
   "metadata": {},
   "outputs": [],
   "source": []
  }
 ],
 "metadata": {
  "kernelspec": {
   "display_name": "Python 3 (ipykernel)",
   "language": "python",
   "name": "python3"
  },
  "language_info": {
   "codemirror_mode": {
    "name": "ipython",
    "version": 3
   },
   "file_extension": ".py",
   "mimetype": "text/x-python",
   "name": "python",
   "nbconvert_exporter": "python",
   "pygments_lexer": "ipython3",
   "version": "3.7.13"
  }
 },
 "nbformat": 4,
 "nbformat_minor": 5
}
