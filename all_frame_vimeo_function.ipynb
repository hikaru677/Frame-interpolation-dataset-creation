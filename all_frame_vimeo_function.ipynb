{
  "nbformat": 4,
  "nbformat_minor": 0,
  "metadata": {
    "colab": {
      "provenance": [],
      "collapsed_sections": [
        "ZkijIboAcVb_"
      ],
      "authorship_tag": "ABX9TyMGaib1GZR8x/S++aaYiy4Z",
      "include_colab_link": true
    },
    "kernelspec": {
      "name": "python3",
      "display_name": "Python 3"
    },
    "language_info": {
      "name": "python"
    },
    "accelerator": "GPU",
    "gpuClass": "standard"
  },
  "cells": [
    {
      "cell_type": "markdown",
      "metadata": {
        "id": "view-in-github",
        "colab_type": "text"
      },
      "source": [
        "<a href=\"https://colab.research.google.com/github/hikaru677/Frame-interpolation-dataset-creation/blob/main/all_frame_vimeo_function.ipynb\" target=\"_parent\"><img src=\"https://colab.research.google.com/assets/colab-badge.svg\" alt=\"Open In Colab\"/></a>"
      ]
    },
    {
      "cell_type": "markdown",
      "metadata": {
        "id": "ZkijIboAcVb_"
      },
      "source": [
        "# Setup and Import"
      ]
    },
    {
      "cell_type": "code",
      "execution_count": null,
      "metadata": {
        "colab": {
          "base_uri": "https://localhost:8080/"
        },
        "id": "XcXN6m-QJ8eU",
        "outputId": "1c31ed1c-dfb7-4e63-9efb-b070a3977a8c"
      },
      "outputs": [
        {
          "output_type": "stream",
          "name": "stdout",
          "text": [
            "Drive already mounted at /content/drive; to attempt to forcibly remount, call drive.mount(\"/content/drive\", force_remount=True).\n"
          ]
        }
      ],
      "source": [
        "from google.colab import drive\n",
        "drive.mount('/content/drive')\n",
        "import random\n",
        "import os\n",
        "import ssl\n",
        "import cv2\n",
        "import numpy as np\n",
        "import imageio\n",
        "from IPython import display\n",
        "from urllib import request\n",
        "import re\n",
        "import tempfile\n",
        "import math\n",
        "from tqdm.notebook import tqdm\n",
        "import copy"
      ]
    },
    {
      "cell_type": "code",
      "execution_count": null,
      "metadata": {
        "id": "VPpDT1u_Ruq2"
      },
      "outputs": [],
      "source": [
        "! cd /content/drive"
      ]
    },
    {
      "cell_type": "code",
      "execution_count": null,
      "metadata": {
        "id": "SqIeS7vDKGRg",
        "colab": {
          "base_uri": "https://localhost:8080/"
        },
        "outputId": "ca6ceaf8-bc06-4dd2-9fd7-31d25fd6061a"
      },
      "outputs": [
        {
          "output_type": "stream",
          "name": "stdout",
          "text": [
            "Looking in indexes: https://pypi.org/simple, https://us-python.pkg.dev/colab-wheels/public/simple/\n",
            "Requirement already satisfied: torch in /usr/local/lib/python3.8/dist-packages (1.12.1+cu113)\n",
            "Requirement already satisfied: typing-extensions in /usr/local/lib/python3.8/dist-packages (from torch) (4.1.1)\n",
            "Looking in indexes: https://pypi.org/simple, https://us-python.pkg.dev/colab-wheels/public/simple/\n",
            "Requirement already satisfied: torchvision in /usr/local/lib/python3.8/dist-packages (0.13.1+cu113)\n",
            "Requirement already satisfied: requests in /usr/local/lib/python3.8/dist-packages (from torchvision) (2.23.0)\n",
            "Requirement already satisfied: torch==1.12.1 in /usr/local/lib/python3.8/dist-packages (from torchvision) (1.12.1+cu113)\n",
            "Requirement already satisfied: numpy in /usr/local/lib/python3.8/dist-packages (from torchvision) (1.21.6)\n",
            "Requirement already satisfied: typing-extensions in /usr/local/lib/python3.8/dist-packages (from torchvision) (4.1.1)\n",
            "Requirement already satisfied: pillow!=8.3.*,>=5.3.0 in /usr/local/lib/python3.8/dist-packages (from torchvision) (7.1.2)\n",
            "Requirement already satisfied: certifi>=2017.4.17 in /usr/local/lib/python3.8/dist-packages (from requests->torchvision) (2022.9.24)\n",
            "Requirement already satisfied: idna<3,>=2.5 in /usr/local/lib/python3.8/dist-packages (from requests->torchvision) (2.10)\n",
            "Requirement already satisfied: urllib3!=1.25.0,!=1.25.1,<1.26,>=1.21.1 in /usr/local/lib/python3.8/dist-packages (from requests->torchvision) (1.24.3)\n",
            "Requirement already satisfied: chardet<4,>=3.0.2 in /usr/local/lib/python3.8/dist-packages (from requests->torchvision) (3.0.4)\n"
          ]
        }
      ],
      "source": [
        "! pip install torch\n",
        "! pip install torchvision"
      ]
    },
    {
      "cell_type": "code",
      "execution_count": null,
      "metadata": {
        "id": "6lD69gdhGDao",
        "colab": {
          "base_uri": "https://localhost:8080/"
        },
        "outputId": "c31edaf5-8fef-44db-9ff9-0e3d9f1b9934"
      },
      "outputs": [
        {
          "output_type": "stream",
          "name": "stdout",
          "text": [
            "Looking in indexes: https://pypi.org/simple, https://us-python.pkg.dev/colab-wheels/public/simple/\n",
            "Requirement already satisfied: openmim in /usr/local/lib/python3.8/dist-packages (0.3.3)\n",
            "Requirement already satisfied: pandas in /usr/local/lib/python3.8/dist-packages (from openmim) (1.3.5)\n",
            "Requirement already satisfied: tabulate in /usr/local/lib/python3.8/dist-packages (from openmim) (0.8.10)\n",
            "Requirement already satisfied: model-index in /usr/local/lib/python3.8/dist-packages (from openmim) (0.1.11)\n",
            "Requirement already satisfied: rich in /usr/local/lib/python3.8/dist-packages (from openmim) (12.6.0)\n",
            "Requirement already satisfied: pip>=19.3 in /usr/local/lib/python3.8/dist-packages (from openmim) (21.1.3)\n",
            "Requirement already satisfied: colorama in /usr/local/lib/python3.8/dist-packages (from openmim) (0.4.6)\n",
            "Requirement already satisfied: Click in /usr/local/lib/python3.8/dist-packages (from openmim) (7.1.2)\n",
            "Requirement already satisfied: requests in /usr/local/lib/python3.8/dist-packages (from openmim) (2.23.0)\n",
            "Requirement already satisfied: ordered-set in /usr/local/lib/python3.8/dist-packages (from model-index->openmim) (4.1.0)\n",
            "Requirement already satisfied: pyyaml in /usr/local/lib/python3.8/dist-packages (from model-index->openmim) (6.0)\n",
            "Requirement already satisfied: markdown in /usr/local/lib/python3.8/dist-packages (from model-index->openmim) (3.4.1)\n",
            "Requirement already satisfied: importlib-metadata>=4.4 in /usr/local/lib/python3.8/dist-packages (from markdown->model-index->openmim) (4.13.0)\n",
            "Requirement already satisfied: zipp>=0.5 in /usr/local/lib/python3.8/dist-packages (from importlib-metadata>=4.4->markdown->model-index->openmim) (3.10.0)\n",
            "Requirement already satisfied: python-dateutil>=2.7.3 in /usr/local/lib/python3.8/dist-packages (from pandas->openmim) (2.8.2)\n",
            "Requirement already satisfied: pytz>=2017.3 in /usr/local/lib/python3.8/dist-packages (from pandas->openmim) (2022.6)\n",
            "Requirement already satisfied: numpy>=1.17.3 in /usr/local/lib/python3.8/dist-packages (from pandas->openmim) (1.21.6)\n",
            "Requirement already satisfied: six>=1.5 in /usr/local/lib/python3.8/dist-packages (from python-dateutil>=2.7.3->pandas->openmim) (1.15.0)\n",
            "Requirement already satisfied: idna<3,>=2.5 in /usr/local/lib/python3.8/dist-packages (from requests->openmim) (2.10)\n",
            "Requirement already satisfied: certifi>=2017.4.17 in /usr/local/lib/python3.8/dist-packages (from requests->openmim) (2022.9.24)\n",
            "Requirement already satisfied: chardet<4,>=3.0.2 in /usr/local/lib/python3.8/dist-packages (from requests->openmim) (3.0.4)\n",
            "Requirement already satisfied: urllib3!=1.25.0,!=1.25.1,<1.26,>=1.21.1 in /usr/local/lib/python3.8/dist-packages (from requests->openmim) (1.24.3)\n",
            "Requirement already satisfied: commonmark<0.10.0,>=0.9.0 in /usr/local/lib/python3.8/dist-packages (from rich->openmim) (0.9.1)\n",
            "Requirement already satisfied: pygments<3.0.0,>=2.6.0 in /usr/local/lib/python3.8/dist-packages (from rich->openmim) (2.6.1)\n",
            "Requirement already satisfied: typing-extensions<5.0,>=4.0.0 in /usr/local/lib/python3.8/dist-packages (from rich->openmim) (4.1.1)\n",
            "Looking in indexes: https://pypi.org/simple, https://us-python.pkg.dev/colab-wheels/public/simple/\n",
            "Looking in links: https://download.openmmlab.com/mmcv/dist/cu113/torch1.12.0/index.html\n",
            "Requirement already satisfied: mmcv-full==1.6.0 in /usr/local/lib/python3.8/dist-packages (1.6.0)\n",
            "Requirement already satisfied: Pillow in /usr/local/lib/python3.8/dist-packages (from mmcv-full==1.6.0) (7.1.2)\n",
            "Requirement already satisfied: pyyaml in /usr/local/lib/python3.8/dist-packages (from mmcv-full==1.6.0) (6.0)\n",
            "Requirement already satisfied: packaging in /usr/local/lib/python3.8/dist-packages (from mmcv-full==1.6.0) (21.3)\n",
            "Requirement already satisfied: opencv-python>=3 in /usr/local/lib/python3.8/dist-packages (from mmcv-full==1.6.0) (4.6.0.66)\n",
            "Requirement already satisfied: yapf in /usr/local/lib/python3.8/dist-packages (from mmcv-full==1.6.0) (0.32.0)\n",
            "Requirement already satisfied: addict in /usr/local/lib/python3.8/dist-packages (from mmcv-full==1.6.0) (2.4.0)\n",
            "Requirement already satisfied: numpy in /usr/local/lib/python3.8/dist-packages (from mmcv-full==1.6.0) (1.21.6)\n",
            "Requirement already satisfied: pyparsing!=3.0.5,>=2.0.2 in /usr/local/lib/python3.8/dist-packages (from packaging->mmcv-full==1.6.0) (3.0.9)\n"
          ]
        }
      ],
      "source": [
        "!pip3 install openmim\n",
        "!mim install mmcv-full==1.6.0"
      ]
    },
    {
      "cell_type": "code",
      "execution_count": null,
      "metadata": {
        "id": "pTzWjJmjHcXZ",
        "colab": {
          "base_uri": "https://localhost:8080/"
        },
        "outputId": "52642703-234c-4446-89a6-6df1b462f616"
      },
      "outputs": [
        {
          "output_type": "stream",
          "name": "stdout",
          "text": [
            "Looking in indexes: https://pypi.org/simple, https://us-python.pkg.dev/colab-wheels/public/simple/\n",
            "Requirement already satisfied: mmflow in /usr/local/lib/python3.8/dist-packages (0.5.1)\n",
            "Requirement already satisfied: numpy in /usr/local/lib/python3.8/dist-packages (from mmflow) (1.21.6)\n",
            "Requirement already satisfied: six in /usr/local/lib/python3.8/dist-packages (from mmflow) (1.15.0)\n",
            "Requirement already satisfied: matplotlib in /usr/local/lib/python3.8/dist-packages (from mmflow) (3.2.2)\n",
            "Requirement already satisfied: python-dateutil>=2.1 in /usr/local/lib/python3.8/dist-packages (from matplotlib->mmflow) (2.8.2)\n",
            "Requirement already satisfied: cycler>=0.10 in /usr/local/lib/python3.8/dist-packages (from matplotlib->mmflow) (0.11.0)\n",
            "Requirement already satisfied: kiwisolver>=1.0.1 in /usr/local/lib/python3.8/dist-packages (from matplotlib->mmflow) (1.4.4)\n",
            "Requirement already satisfied: pyparsing!=2.0.4,!=2.1.2,!=2.1.6,>=2.0.1 in /usr/local/lib/python3.8/dist-packages (from matplotlib->mmflow) (3.0.9)\n"
          ]
        }
      ],
      "source": [
        "! pip install mmflow"
      ]
    },
    {
      "cell_type": "code",
      "execution_count": null,
      "metadata": {
        "id": "1m2n_6KiIIOm",
        "colab": {
          "base_uri": "https://localhost:8080/"
        },
        "outputId": "c1b4f9ad-71dc-453f-b1dd-d8ee7071a0fa"
      },
      "outputs": [
        {
          "output_type": "stream",
          "name": "stdout",
          "text": [
            "processing pwcnet_ft_4x1_300k_sintel_final_384x768...\n",
            "\u001b[32mpwcnet_ft_4x1_300k_sintel_final_384x768.pth exists in /root/.cache/mim\u001b[0m\n",
            "\u001b[32mSuccessfully dumped pwcnet_ft_4x1_300k_sintel_final_384x768.py to /root/.cache/mim\u001b[0m\n"
          ]
        }
      ],
      "source": [
        "! mim download mmflow --config pwcnet_ft_4x1_300k_sintel_final_384x768"
      ]
    },
    {
      "cell_type": "code",
      "execution_count": null,
      "metadata": {
        "id": "qC6TNM6nImA4"
      },
      "outputs": [],
      "source": [
        "from mmflow.apis import init_model, inference_model\n",
        "from mmflow.datasets import visualize_flow, write_flow\n",
        "import mmcv\n",
        "config_file = '/root/.cache/mim/pwcnet_ft_4x1_300k_sintel_final_384x768.py'\n",
        "checkpoint_file = '/root/.cache/mim/pwcnet_ft_4x1_300k_sintel_final_384x768.pth'"
      ]
    },
    {
      "cell_type": "markdown",
      "metadata": {
        "id": "ns7pPPCGcrNu"
      },
      "source": [
        "# estimate"
      ]
    },
    {
      "cell_type": "code",
      "source": [
        "# fetch videos from UCF101 dataset\n",
        "UCF_ROOT = \"https://www.crcv.ucf.edu/THUMOS14/UCF101/UCF101/\"\n",
        "_VIDEO_LIST = None\n",
        "unverified_context = ssl._create_unverified_context()\n",
        "UCF_DATA_FOLDER = \"/content/drive/MyDrive/UCF101_Unzipped_Files/UCF-101\"\n",
        "\n",
        "def list_ucf_videos():\n",
        "    global _VIDEO_LIST\n",
        "    if not _VIDEO_LIST:\n",
        "        index = request.urlopen(UCF_ROOT, context=unverified_context).read().decode(\"utf-8\")\n",
        "        videos = re.findall(\"(v_[\\w_]+\\.avi)\", index)\n",
        "        _VIDEO_LIST = sorted(set(videos))\n",
        "    return list(_VIDEO_LIST)\n",
        "\n",
        "# def fetch_ucf_video(video):\n",
        "#     action_dir = video.split('_')[1]\n",
        "#     if action_dir == \"HandstandPushups\":\n",
        "#       action_dir = \"HandStandPushups\"\n",
        "#       text_list = video.split('_')\n",
        "#       base_video_path = text_list[0]+ '_' + action_dir + '_' + text_list[2] + '_' + text_list[3]\n",
        "#       video_path = os.path.join(UCF_DATA_FOLDER,action_dir,base_video_path)\n",
        "#       print(video_path)\n",
        "#       return video_path\n",
        "\n",
        "#     video_path = os.path.join(UCF_DATA_FOLDER,action_dir,video)\n",
        "#     return video_path\n",
        "\n",
        "def path_modify(video):\n",
        "  action_dir = video.split('_')[1]\n",
        "  if action_dir == \"HandstandPushups\":\n",
        "      action_dir = \"HandStandPushups\"\n",
        "      text_list = video.split('_')\n",
        "      base_video_path = text_list[0]+ '_' + action_dir + '_' + text_list[2] + '_' + text_list[3]\n",
        "      print(base_video_path)\n",
        "      return base_video_path\n",
        "\n",
        "  return video\n"
      ],
      "metadata": {
        "id": "NSG0BzFf-lQL"
      },
      "execution_count": null,
      "outputs": []
    },
    {
      "cell_type": "code",
      "source": [
        "def fetch_action_list(action = \"BandMarching\"):\n",
        "    list_data = list_ucf_videos()\n",
        "    return [i for i in list_data if i.split('_')[1] == action]"
      ],
      "metadata": {
        "id": "-zDSYKqI_Z5M"
      },
      "execution_count": null,
      "outputs": []
    },
    {
      "cell_type": "code",
      "source": [
        "# build the model from a config file and a checkpoint file\n",
        "model = init_model(config_file, checkpoint_file, device='cuda:0')\n",
        "\n",
        "#\n",
        "img1='/content/drive/MyDrive/UCF101_every_frame/Fixed/Archery/frames_v_Archery_g02_c01/000002.png'\n",
        "img2='/content/drive/MyDrive/UCF101_every_frame/Fixed/Archery/frames_v_Archery_g02_c01/000003.png'\n",
        "img3='/content/drive/MyDrive/UCF101_every_frame/Fixed/Archery/frames_v_Archery_g02_c01/000004.png'\n",
        "\n",
        "# img1 = \"/content/drive/MyDrive/middleburry_8_frame/Walking/frame10.png\"\n",
        "# img2 = \"/content/drive/MyDrive/middleburry_8_frame/Walking/frame11.png\"\n",
        "# img3 = \"/content/drive/MyDrive/middleburry_8_frame/Walking/frame12.png\""
      ],
      "metadata": {
        "colab": {
          "base_uri": "https://localhost:8080/"
        },
        "id": "qo4QXlAg0ehe",
        "outputId": "f34c2f03-665d-4914-b15a-b08a017bc53b"
      },
      "execution_count": null,
      "outputs": [
        {
          "output_type": "stream",
          "name": "stdout",
          "text": [
            "load checkpoint from local path: /root/.cache/mim/pwcnet_ft_4x1_300k_sintel_final_384x768.pth\n"
          ]
        }
      ]
    },
    {
      "cell_type": "code",
      "source": [
        "def flo_out(model,img1,img2,img3):\n",
        "  result_12 = inference_model(model, img1, img2)\n",
        "  result_23 = inference_model(model, img2, img3)\n",
        "\n",
        "  write_flow(result_12,flow_file = 'flow_12.flo')\n",
        "  write_flow(result_23,flow_file = 'flow_23.flo')\n",
        "\n",
        "  visualize_flow(result_12, save_file='flow_map_12.png')\n",
        "  # visualize_flow(-result_12,save_file = 'flow_map_reverse.png')\n",
        "  visualize_flow(result_23,save_file = \"flow_map_23.png\")\n",
        "  return 'flow_12.flo','flow_23.flo'"
      ],
      "metadata": {
        "id": "CjAERBwtwUQ5"
      },
      "execution_count": null,
      "outputs": []
    },
    {
      "cell_type": "code",
      "source": [
        "def remove_values_closeto_0(flow_map12,flow_map23):\n",
        "  condition_12_1 = (flow_map12 < 0.01)\n",
        "  condition_12_2 = (flow_map12 > -0.01)\n",
        "  condition_12 = condition_12_1 & condition_12_2\n",
        "\n",
        "  condition_23_1 = (flow_map23 < 0.01)\n",
        "  condition_23_2 = (flow_map23 > 0.01)\n",
        "  condition_23 = condition_23_1 & condition_23_2\n",
        "\n",
        "  flow_map12[condition_12] = 0\n",
        "  flow_map23[condition_23] = 0\n",
        "\n",
        "  return flow_map12,flow_map23\n",
        "\n",
        "\n",
        "def read_2_flo(flow12_path,flow23_path):\n",
        "  flow_map12 = cv2.readOpticalFlow(flow12_path)\n",
        "  flow_map23 = cv2.readOpticalFlow(flow23_path)\n",
        "\n",
        "  flow_map12,flow_map23 = remove_values_closeto_0(flow_map12,flow_map23)\n",
        "\n",
        "\n",
        "  return flow_map12,flow_map23"
      ],
      "metadata": {
        "id": "AmIu6n5-xV9J"
      },
      "execution_count": null,
      "outputs": []
    },
    {
      "cell_type": "code",
      "source": [
        "def convert_nan_to_0(flow_magnitude):\n",
        "  nans = np.isnan(flow_magnitude)\n",
        "  if np.any(nans):\n",
        "      nans = np.where(nans)\n",
        "      flow_magnitude[nans] = 0.\n",
        "\n",
        "  return flow_magnitude\n",
        "\n",
        "\n",
        "def flow_magnitude_out(flow_map12,flow_map23):\n",
        "  flow_map_12_channel_0 = flow_map12[:,:,0]\n",
        "  flow_map_12_channel_1 = flow_map12[:,:,1]\n",
        "\n",
        "  flow_map_23_channel_0 = flow_map23[:,:,0]\n",
        "  flow_map_23_channel_1 = flow_map23[:,:,1]\n",
        "\n",
        "  flow_magnitude_12, _ = cv2.cartToPolar(flow_map_12_channel_0, flow_map_12_channel_1)\n",
        "  flow_magnitude_23, _ = cv2.cartToPolar(flow_map_23_channel_0, flow_map_23_channel_1)\n",
        "  # A couple times, we've gotten NaNs out of the above...\n",
        "\n",
        "  return flow_magnitude_12,flow_magnitude_23\n",
        ""
      ],
      "metadata": {
        "id": "a_JG-T2vCq5o"
      },
      "execution_count": null,
      "outputs": []
    },
    {
      "cell_type": "code",
      "execution_count": null,
      "metadata": {
        "id": "JIF17BVaIn_e"
      },
      "outputs": [],
      "source": [
        "flo1 ,flo2 = flo_out(model,img1,img2,img3)\n",
        "flow_map12 ,flow_map23 = read_2_flo(flo1,flo2)\n",
        "flow_magnitude_12,flow_magnitude_23 = flow_magnitude_out(flow_map12,flow_map23)"
      ]
    },
    {
      "cell_type": "code",
      "source": [
        "def warp_second_frame_to_first(flow_map_origin,second_frame):\n",
        "  flow_map = copy.copy(flow_map_origin)\n",
        "  h,w = flow_map.shape[:2]\n",
        "  flow_map[:,:,0] += np.arange(w)#変換後の座標を指定\n",
        "  flow_map[:,:,1] += np.arange(h)[:,np.newaxis]\n",
        "  img2 = cv2.imread(second_frame)\n",
        "  warped_prevImg = cv2.remap(img2, flow_map, None, cv2.INTER_LINEAR)#INTER_NEAREST#INTER_AREA\n",
        "  cv2.imwrite(\"warped_first_frame.png\",warped_prevImg)\n",
        "\n",
        "  return warped_prevImg"
      ],
      "metadata": {
        "id": "HRjm5Tcvp_xI"
      },
      "execution_count": null,
      "outputs": []
    },
    {
      "cell_type": "code",
      "source": [
        "print(flow_map12)"
      ],
      "metadata": {
        "id": "WRbndrNaYQkE"
      },
      "execution_count": null,
      "outputs": []
    },
    {
      "cell_type": "code",
      "source": [
        "# flow = flow_map12\n",
        "# h, w = flow.shape[:2]\n",
        "# flow[:,:,0] += np.arange(w)#変換後の座標を指定\n",
        "# flow[:,:,1] += np.arange(h)[:,np.newaxis]\n",
        "# img_ = cv2.imread(img2)\n",
        "# prevImg = cv2.remap(img_, flow, None, cv2.INTER_LINEAR)#INTER_NEAREST#INTER_AREA\n",
        "# cv2.imwrite(\"Image.png\",prevImg)"
      ],
      "metadata": {
        "id": "oteM8SECfgtL"
      },
      "execution_count": null,
      "outputs": []
    },
    {
      "cell_type": "code",
      "source": [
        "prevImg = warp_second_frame_to_first(flow_map12,img2)\n",
        "img_ = cv2.imread(img2)"
      ],
      "metadata": {
        "id": "Y1ED0yZeWJ4h"
      },
      "execution_count": null,
      "outputs": []
    },
    {
      "cell_type": "code",
      "source": [
        "print(flow_map12)"
      ],
      "metadata": {
        "colab": {
          "base_uri": "https://localhost:8080/"
        },
        "id": "wrOMlUk6XU5F",
        "outputId": "aa38e7b0-65a0-4369-a122-4a80cc125986"
      },
      "execution_count": null,
      "outputs": [
        {
          "output_type": "stream",
          "name": "stdout",
          "text": [
            "[[[-0.09586643  0.        ]\n",
            "  [-0.09586643  0.        ]\n",
            "  [-0.08887243  0.        ]\n",
            "  ...\n",
            "  [-0.36849964  0.05834742]\n",
            "  [-0.39069784  0.06832174]\n",
            "  [-0.39069784  0.06832174]]\n",
            "\n",
            " [[-0.09544005  0.        ]\n",
            "  [-0.09544005  0.        ]\n",
            "  [-0.08843189 -0.01085257]\n",
            "  ...\n",
            "  [-0.36602268  0.05774394]\n",
            "  [-0.38796917  0.06762376]\n",
            "  [-0.38796917  0.06762376]]\n",
            "\n",
            " [[-0.09018145 -0.01581354]\n",
            "  [-0.09018145 -0.01581354]\n",
            "  [-0.08299853 -0.02811566]\n",
            "  ...\n",
            "  [-0.33547348  0.05030102]\n",
            "  [-0.3543152   0.05901538]\n",
            "  [-0.3543152   0.05901538]]\n",
            "\n",
            " ...\n",
            "\n",
            " [[-0.10097285  0.12747262]\n",
            "  [-0.10097285  0.12747262]\n",
            "  [-0.09964161  0.12887283]\n",
            "  ...\n",
            "  [-0.19900411 -0.03155718]\n",
            "  [-0.19028392 -0.033509  ]\n",
            "  [-0.19028392 -0.033509  ]]\n",
            "\n",
            " [[-0.10197476  0.12944153]\n",
            "  [-0.10197476  0.12944153]\n",
            "  [-0.10161703  0.13100374]\n",
            "  ...\n",
            "  [-0.18525873 -0.03080775]\n",
            "  [-0.17405327 -0.03221573]\n",
            "  [-0.17405327 -0.03221573]]\n",
            "\n",
            " [[-0.102056    0.12960118]\n",
            "  [-0.102056    0.12960118]\n",
            "  [-0.10177721  0.13117653]\n",
            "  ...\n",
            "  [-0.18414417 -0.03074698]\n",
            "  [-0.17273718 -0.03211086]\n",
            "  [-0.17273718 -0.03211086]]]\n"
          ]
        }
      ]
    },
    {
      "cell_type": "markdown",
      "source": [
        "## Vimeo's three conditions"
      ],
      "metadata": {
        "id": "ysNKYuCIeJeB"
      }
    },
    {
      "cell_type": "code",
      "source": [
        "def with_movement_greater_than_3(flow_map,flow_magnitude):#2\n",
        "  first_bool = False\n",
        "  more_number = np.count_nonzero(flow_magnitude > 3)\n",
        "  pixel_number = flow_map.shape[0] * flow_map.shape[1]# 240*320=76800\n",
        "  print(more_number)\n",
        "  print(pixel_number)\n",
        "  print(more_number/pixel_number * 100)\n",
        "  if (more_number/pixel_number * 100) > 5:\n",
        "    first_bool = True\n",
        "\n",
        "  return first_bool"
      ],
      "metadata": {
        "id": "21c-jJQDUKLu"
      },
      "execution_count": null,
      "outputs": []
    },
    {
      "cell_type": "code",
      "source": [
        "with_movement_greater_than_3(flow_map12,flow_magnitude_12)"
      ],
      "metadata": {
        "colab": {
          "base_uri": "https://localhost:8080/"
        },
        "id": "HpTxb7G9dsno",
        "outputId": "73794ceb-c005-497c-d4be-8b8d4dff64e5"
      },
      "execution_count": null,
      "outputs": [
        {
          "output_type": "stream",
          "name": "stdout",
          "text": [
            "7759\n",
            "76800\n",
            "10.102864583333334\n"
          ]
        },
        {
          "output_type": "execute_result",
          "data": {
            "text/plain": [
              "True"
            ]
          },
          "metadata": {},
          "execution_count": 106
        }
      ]
    },
    {
      "cell_type": "code",
      "source": [
        "def intensity_levels(warped_prevImg,prevImg):#4\n",
        "  second_bool = False\n",
        "  img_diff = cv2.absdiff(warped_prevImg, prevImg)\n",
        "  print(img_diff.shape)\n",
        "  sum_img_diff = np.sum(img_diff,axis = 2)\n",
        "  print(sum_img_diff.shape)\n",
        "  cv2.imwrite('sabun-result.jpg',img_diff)\n",
        "  average_l1_distance = np.mean(sum_img_diff)\n",
        "  print(average_l1_distance)\n",
        "  if average_l1_distance < 15:\n",
        "    second_bool = True\n",
        "\n",
        "  return second_bool"
      ],
      "metadata": {
        "id": "gmjBQEA-YmBM"
      },
      "execution_count": null,
      "outputs": []
    },
    {
      "cell_type": "code",
      "source": [
        "intensity_levels(prevImg,img_)"
      ],
      "metadata": {
        "colab": {
          "base_uri": "https://localhost:8080/"
        },
        "id": "R2tmY_Xq6jfN",
        "outputId": "8e40edde-6e85-495e-ea29-7fcc9acdcc69"
      },
      "execution_count": null,
      "outputs": [
        {
          "output_type": "stream",
          "name": "stdout",
          "text": [
            "(240, 320, 3)\n",
            "(240, 320)\n",
            "23.753424479166668\n"
          ]
        },
        {
          "output_type": "execute_result",
          "data": {
            "text/plain": [
              "False"
            ]
          },
          "metadata": {},
          "execution_count": 108
        }
      ]
    },
    {
      "cell_type": "code",
      "source": [
        "def average_difference_v21_v23(flow_map12 ,flow_map23):#5\n",
        "  third_bool = False\n",
        "\n",
        "  flow_map_diff = flow_map23 - flow_map12\n",
        "  print(flow_map23)\n",
        "  print(\"---------------------\")\n",
        "  print(flow_map12)\n",
        "  # print(\"---------------------\")\n",
        "  # print(flow_map_diff)\n",
        "  # print(\"---------------------\")\n",
        "  print(flow_map_diff.shape)\n",
        "  # print(\"---------------------\")\n",
        "  flow_map_diff_c1 = flow_map_diff[:,:,0]\n",
        "  flow_map_diff_c2 = flow_map_diff[:,:,1]\n",
        "  flow_map_disagreement, _ = cv2.cartToPolar(flow_map_diff_c1, flow_map_diff_c2)\n",
        "  # print(flow_map_disagreement)\n",
        "  # print(\"---------------------\")\n",
        "  # print(flow_map_disagreement)\n",
        "  flow_map_mean_disagreement = np.mean(flow_map_disagreement)\n",
        "  print(flow_map_mean_disagreement)\n",
        "  # print(np.sqrt((flow_map_diff_c1[0][0])**2 + (flow_map_diff_c2[0][0])**2))\n",
        "\n",
        "  if flow_map_mean_disagreement < 1.0:\n",
        "    third_bool = True\n",
        "  return third_bool"
      ],
      "metadata": {
        "id": "r9j0dqtgY2D8"
      },
      "execution_count": null,
      "outputs": []
    },
    {
      "cell_type": "code",
      "source": [
        "average_difference_v21_v23(flow_map12 ,flow_map23)"
      ],
      "metadata": {
        "colab": {
          "base_uri": "https://localhost:8080/"
        },
        "id": "1T9Bhs02VmLR",
        "outputId": "da8bd57b-084a-4f39-ab86-d7cbd53f526f"
      },
      "execution_count": null,
      "outputs": [
        {
          "output_type": "stream",
          "name": "stdout",
          "text": [
            "[[[-0.07714942  0.02252454]\n",
            "  [-0.07714942  0.02252454]\n",
            "  [-0.06345761  0.02670406]\n",
            "  ...\n",
            "  [-0.32886848  0.02857471]\n",
            "  [-0.35179412  0.03680546]\n",
            "  [-0.35179412  0.03680546]]\n",
            "\n",
            " [[-0.07739115  0.02228117]\n",
            "  [-0.07739115  0.02228117]\n",
            "  [-0.06368165  0.02640355]\n",
            "  ...\n",
            "  [-0.32637045  0.02821669]\n",
            "  [-0.34904101  0.03640472]\n",
            "  [-0.34904101  0.03640472]]\n",
            "\n",
            " [[-0.0803724   0.01927951]\n",
            "  [-0.0803724   0.01927951]\n",
            "  [-0.06644491  0.02269725]\n",
            "  ...\n",
            "  [-0.29556155  0.02380112]\n",
            "  [-0.3150857   0.03146226]\n",
            "  [-0.3150857   0.03146226]]\n",
            "\n",
            " ...\n",
            "\n",
            " [[-0.07686289  0.14478473]\n",
            "  [-0.07686289  0.14478473]\n",
            "  [-0.07477099  0.13964178]\n",
            "  ...\n",
            "  [-0.11383876 -0.08871308]\n",
            "  [-0.10434688 -0.0951651 ]\n",
            "  [-0.10434688 -0.0951651 ]]\n",
            "\n",
            " [[-0.0731561   0.14776152]\n",
            "  [-0.0731561   0.14776152]\n",
            "  [-0.07189345  0.14263992]\n",
            "  ...\n",
            "  [-0.09337433 -0.08455703]\n",
            "  [-0.0813156  -0.09117381]\n",
            "  [-0.0813156  -0.09117381]]\n",
            "\n",
            " [[-0.07285553  0.14800291]\n",
            "  [-0.07285553  0.14800291]\n",
            "  [-0.07166012  0.14288303]\n",
            "  ...\n",
            "  [-0.09171496 -0.08422003]\n",
            "  [-0.07944809 -0.09085017]\n",
            "  [-0.07944809 -0.09085017]]]\n",
            "---------------------\n",
            "[[[-0.09586643  0.        ]\n",
            "  [-0.09586643  0.        ]\n",
            "  [-0.08887243  0.        ]\n",
            "  ...\n",
            "  [-0.36849964  0.05834742]\n",
            "  [-0.39069784  0.06832174]\n",
            "  [-0.39069784  0.06832174]]\n",
            "\n",
            " [[-0.09544005  0.        ]\n",
            "  [-0.09544005  0.        ]\n",
            "  [-0.08843189 -0.01085257]\n",
            "  ...\n",
            "  [-0.36602268  0.05774394]\n",
            "  [-0.38796917  0.06762376]\n",
            "  [-0.38796917  0.06762376]]\n",
            "\n",
            " [[-0.09018145 -0.01581354]\n",
            "  [-0.09018145 -0.01581354]\n",
            "  [-0.08299853 -0.02811566]\n",
            "  ...\n",
            "  [-0.33547348  0.05030102]\n",
            "  [-0.3543152   0.05901538]\n",
            "  [-0.3543152   0.05901538]]\n",
            "\n",
            " ...\n",
            "\n",
            " [[-0.10097285  0.12747262]\n",
            "  [-0.10097285  0.12747262]\n",
            "  [-0.09964161  0.12887283]\n",
            "  ...\n",
            "  [-0.19900411 -0.03155718]\n",
            "  [-0.19028392 -0.033509  ]\n",
            "  [-0.19028392 -0.033509  ]]\n",
            "\n",
            " [[-0.10197476  0.12944153]\n",
            "  [-0.10197476  0.12944153]\n",
            "  [-0.10161703  0.13100374]\n",
            "  ...\n",
            "  [-0.18525873 -0.03080775]\n",
            "  [-0.17405327 -0.03221573]\n",
            "  [-0.17405327 -0.03221573]]\n",
            "\n",
            " [[-0.102056    0.12960118]\n",
            "  [-0.102056    0.12960118]\n",
            "  [-0.10177721  0.13117653]\n",
            "  ...\n",
            "  [-0.18414417 -0.03074698]\n",
            "  [-0.17273718 -0.03211086]\n",
            "  [-0.17273718 -0.03211086]]]\n",
            "(240, 320, 2)\n",
            "1.1489409\n"
          ]
        },
        {
          "output_type": "execute_result",
          "data": {
            "text/plain": [
              "False"
            ]
          },
          "metadata": {},
          "execution_count": 110
        }
      ]
    },
    {
      "cell_type": "code",
      "source": [
        "def fetch_ucf_action_list():\n",
        "  cache_list = []\n",
        "  video_list = list_ucf_videos()\n",
        "  for path in video_list:\n",
        "    # base_path = path.split('/')[-1]\n",
        "    action_dir = path.split('_')[1]\n",
        "    if action_dir == \"HandstandPushups\":\n",
        "      action_dir = \"HandStandPushups\"\n",
        "    cache_list.append(action_dir)\n",
        "  cache_list = set(cache_list)\n",
        "  cache_list = list(cache_list)\n",
        "  cache_list.sort()\n",
        "  return cache_list"
      ],
      "metadata": {
        "id": "05dePAg7xSj0"
      },
      "execution_count": null,
      "outputs": []
    },
    {
      "cell_type": "code",
      "source": [
        "def Fixed_list_ucf(classify = \"Fixed\",div = 0):\n",
        "    cache_list = []\n",
        "    action_list = fetch_ucf_action_list()\n",
        "    # if div == 0:\n",
        "    #     action_list = action_list[0:50]\n",
        "    # else:\n",
        "    #     action_list = action_list[50:101]\n",
        "    classify_dir = os.path.join(\"/content/drive/MyDrive/UCF101_every_frame\",classify)\n",
        "    for action in action_list:\n",
        "        action_path = os.path.join(classify_dir,action)\n",
        "        each_frame_folder_list = os.listdir(action_path)\n",
        "        cache_list.append(each_frame_folder_list)\n",
        "    return np.hstack(cache_list)"
      ],
      "metadata": {
        "id": "Rjc_fIZtwuRl"
      },
      "execution_count": null,
      "outputs": []
    },
    {
      "cell_type": "code",
      "source": [
        "def frame_folder_full_path(folder_name,classify):#ex:file_name = v_ApplyEyeMakeup_g01_c01\n",
        "  #ex:folder_name = frames_v_BenchPress_g24_c04\n",
        "  action_dir = folder_name.split('_')[2]\n",
        "  folder_name = os.path.join(\"/content/drive/MyDrive/UCF101_every_frame/\",classify,action_dir,folder_name)\n",
        "  # folder_name = \"/content/drive/MyDrive/UCF101_every_frame/\" + classify + \"/\"+ action_dir + folder_name\n",
        "  print(folder_name)\n",
        "  return folder_name"
      ],
      "metadata": {
        "id": "4KXTtUpEdIiK"
      },
      "execution_count": null,
      "outputs": []
    },
    {
      "cell_type": "code",
      "source": [
        "def choice_three_frame(frame_folder_path):#ex:frame_folder_path = /content/drive/MyDrive/UCF101_every_frame/Fixed/BlowDryHair/frames_v_BlowDryHair_g01_c01\n",
        "  count = 0\n",
        "  triplet_frame_count = 0\n",
        "\n",
        "  frames_list = os.listdir(frame_folder_path)\n",
        "  sorted(frame_list)\n",
        "  pirnt(frame_list)\n",
        "  last_frame_num = frame_list[-1]\n",
        "  print(last_frame_num)\n",
        "  last_frame_num = os.path.splitext(last_frame_num)[0]\n",
        "\n",
        "  #Set the first 3 frames\n",
        "  img1 = os.path.join(frame_folder_path, str(count).zfill(6)+ \".png\")\n",
        "  print(img1)\n",
        "  img2 = os.path.join(frame_folder_path, str(count+1).zfill(6)+ \".png\")\n",
        "  print(img2)\n",
        "  img3 = os.path.join(frame_folder_path, str(count+2).zfill(6)+ \".png\")\n",
        "  print(img3)\n",
        "\n",
        "  while True:\n",
        "    flo1 ,flo2 = flo_out(model,img1,img2,img3)\n",
        "    flow_map12 ,flow_map23 = read_2_flo(flo1,flo2)\n",
        "    flow_magnitude_12,flow_magnitude_23 = flow_magnitude_out(flow_map12,flow_map23)\n",
        "\n",
        "    first_bool_12 = with_movement_greater_than_3(flow_map,flow_magnitude)\n",
        "    first_bool_23 = with_movement_greater_than_3(flow_map,flow_magnitude)\n",
        "\n",
        "    warped_prevImg2_to_1 = warp_second_frame_to_first(flow_map12,img2)\n",
        "    warped_prevImg3_to_2 = warp_second_frame_to_first(flow_map23,img3)\n",
        "    second_bool_12 = intensity_levels(warped_prevImg,prevImg)\n",
        "    second_bool_23 = intensity_levels(warped_prevImg,prevImg)\n",
        "\n",
        "    third_bool = average_difference_v21_v23(flow_map12 ,flow_map23)\n",
        "\n",
        "    if (first_bool_12 and first_bool_23) and (second_bool_12 and second_bool_23) and (third_bool):\n",
        "      #Trueなら3frameずらしてtripletのカウントを+1\n",
        "      os.makedirs(\"\")"
      ],
      "metadata": {
        "id": "RvC8gK4Ggs2b"
      },
      "execution_count": null,
      "outputs": []
    },
    {
      "cell_type": "code",
      "source": [
        "choice_three_frame(\"/content/drive/MyDrive/UCF101_every_frame/Fixed/BlowDryHair/frames_v_BlowDryHair_g01_c01\")"
      ],
      "metadata": {
        "id": "U18DXMWZvVUu"
      },
      "execution_count": null,
      "outputs": []
    },
    {
      "cell_type": "code",
      "source": [
        "classify = \"Fixed\" #Unfixed#Fixed\n",
        "fetch_frame_folder_list = Fixed_list_ucf()#Fixedの中からframeをfetchしてこなければならない\n",
        "#↑これでframe_v_～～のfolderのlistまでは取り出せる\n",
        "for fetch_path in tqdm(fetch_frame_folder_list):\n",
        "  frame_folder = frame_folder_full_path(fetch_path,classify)\n",
        ""
      ],
      "metadata": {
        "id": "QBOl4e13tw8b"
      },
      "execution_count": null,
      "outputs": []
    }
  ]
}