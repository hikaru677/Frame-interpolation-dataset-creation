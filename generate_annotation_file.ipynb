{
 "cells": [
  {
   "cell_type": "code",
   "execution_count": 8,
   "id": "d9ef543d",
   "metadata": {},
   "outputs": [],
   "source": [
    "import random\n",
    "import os\n",
    "import ssl\n",
    "import cv2\n",
    "import numpy as np\n",
    "import imageio\n",
    "from IPython import display\n",
    "from urllib import request\n",
    "import re\n",
    "import tempfile\n",
    "import math\n",
    "from tqdm.notebook import tqdm\n",
    "import copy\n",
    "import shutil"
   ]
  },
  {
   "cell_type": "code",
   "execution_count": 9,
   "id": "48e05553",
   "metadata": {},
   "outputs": [],
   "source": [
    "\n",
    "\n",
    "random.seed(123)\n",
    "\n",
    "def random_pick(triplet_list,random_number):\n",
    "    return random.sample(triplet_list, random_number)\n",
    "    \n",
    "\n",
    "def merge_triplet(root_dir,classify,random_number):\n",
    "    cache = []\n",
    "    classify_dir = os.path.join(root_dir,classify)\n",
    "    action_dirs = os.listdir(classify_dir)\n",
    "    for action_dir in action_dirs:\n",
    "        action_frame_dirs = os.listdir(os.path.join(classify_dir,action_dir))\n",
    "        for action_frame_dir in action_frame_dirs:#action_frame_dir = frames_v_ApplyEyeMakeup_g02_c01\n",
    "            triplet_dirs = os.listdir(os.path.join(classify_dir,action_dir,action_frame_dir))#triplet_dirs = ['000000', '000001', '000002']\n",
    "            for triplet_dir in triplet_dirs:\n",
    "                triplet_full_path = os.path.join(classify_dir,action_dir,action_frame_dir,triplet_dir)\n",
    "                cache.append(triplet_full_path)\n",
    "    triplet_list = cache\n",
    "\n",
    "    #ランダムに選択する\n",
    "    random_triplet_list = random_pick(triplet_list,random_number)\n",
    "    return random_triplet_list"
   ]
  },
  {
   "cell_type": "code",
   "execution_count": 10,
   "id": "7cd2c4a7",
   "metadata": {},
   "outputs": [],
   "source": [
    "#D:\\GR_data\\frame_triplet_dir\\Fixed\\ApplyEyeMakeup\\frames_v_ApplyEyeMakeup_g02_c01\n",
    "\n",
    "# path_to_move = r\"\"\n",
    "root_dir = r\"D:\\GR_data\\frame_triplet_dir\"\n",
    "random_number = 20000#ハイパーパラメータ,randomに選択するtripletの数\n",
    "\n",
    "fixed_random_triplet_list = merge_triplet(root_dir,\"Fixed\",random_number)\n",
    "unfixed_random_triplet_list = merge_triplet(root_dir,\"Unfixed\",random_number)"
   ]
  },
  {
   "cell_type": "code",
   "execution_count": null,
   "id": "7602dd20",
   "metadata": {},
   "outputs": [],
   "source": []
  },
  {
   "cell_type": "markdown",
   "id": "b00f97b8",
   "metadata": {},
   "source": [
    "# out text file"
   ]
  },
  {
   "cell_type": "code",
   "execution_count": 11,
   "id": "cd749fbb",
   "metadata": {},
   "outputs": [],
   "source": [
    "def out_text_file(text_name,triplet_path_list):\n",
    "    f = open(text_name +'.txt','w')\n",
    "    for triplet_path in triplet_path_list:\n",
    "        triplet_div_path_list = triplet_path.split(os.sep)\n",
    "        insert_text = triplet_div_path_list[-2] + '/' + triplet_div_path_list[-1]\n",
    "        f.write(insert_text+'\\n')\n",
    "    f.close()"
   ]
  },
  {
   "cell_type": "code",
   "execution_count": 12,
   "id": "940ec53c",
   "metadata": {},
   "outputs": [],
   "source": [
    "text_name_1 = \"fixed\" + \"_frame_triplet\"\n",
    "text_name_2 = \"unfixe\" + \"_frame_triplet\"\n",
    "\n",
    "out_text_file(text_name_1,fixed_random_triplet_list)\n",
    "out_text_file(text_name_2,unfixed_random_triplet_list)"
   ]
  }
 ],
 "metadata": {
  "kernelspec": {
   "display_name": "Python 3 (ipykernel)",
   "language": "python",
   "name": "python3"
  },
  "language_info": {
   "codemirror_mode": {
    "name": "ipython",
    "version": 3
   },
   "file_extension": ".py",
   "mimetype": "text/x-python",
   "name": "python",
   "nbconvert_exporter": "python",
   "pygments_lexer": "ipython3",
   "version": "3.7.13"
  }
 },
 "nbformat": 4,
 "nbformat_minor": 5
}
