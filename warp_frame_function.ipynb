{
 "cells": [
  {
   "cell_type": "code",
   "execution_count": 33,
   "id": "341003e6",
   "metadata": {},
   "outputs": [],
   "source": [
    "import random\n",
    "import os\n",
    "import ssl\n",
    "import cv2\n",
    "import numpy as np\n",
    "import imageio\n",
    "from IPython import display\n",
    "from urllib import request\n",
    "import re\n",
    "import tempfile\n",
    "import math\n",
    "from tqdm.notebook import tqdm\n",
    "import copy\n",
    "import shutil"
   ]
  },
  {
   "cell_type": "code",
   "execution_count": 34,
   "id": "abad1109",
   "metadata": {},
   "outputs": [],
   "source": [
    "from mmflow.apis import init_model, inference_model\n",
    "from mmflow.datasets import visualize_flow, write_flow\n",
    "import mmcv\n",
    "config_file = r\"C:\\Users\\hikar\\Documents\\pwcnet_ft_4x1_300k_sintel_final_384x768.py\"\n",
    "checkpoint_file = r\"C:\\Users\\hikar\\Documents\\pwcnet_ft_4x1_300k_sintel_final_384x768.pth\""
   ]
  },
  {
   "cell_type": "code",
   "execution_count": 35,
   "id": "7ba8e9f7",
   "metadata": {},
   "outputs": [
    {
     "name": "stderr",
     "output_type": "stream",
     "text": [
      "Enabling notebook extension jupyter-js-widgets/extension...\n",
      "      - Validating: ok\n"
     ]
    }
   ],
   "source": [
    "!jupyter nbextension enable --py widgetsnbextension"
   ]
  },
  {
   "cell_type": "code",
   "execution_count": 36,
   "id": "27f26c7f",
   "metadata": {},
   "outputs": [],
   "source": [
    "# fetch videos from UCF101 dataset\n",
    "UCF_ROOT = \"https://www.crcv.ucf.edu/THUMOS14/UCF101/UCF101/\"\n",
    "_VIDEO_LIST = None\n",
    "unverified_context = ssl._create_unverified_context()\n",
    "UCF_DATA_FOLDER = r\"C:\\Users\\hikar\\Documents\\UCF_101\"\n",
    "\n",
    "def list_ucf_videos():\n",
    "    global _VIDEO_LIST\n",
    "    if not _VIDEO_LIST:\n",
    "        index = request.urlopen(UCF_ROOT, context=unverified_context).read().decode(\"utf-8\")\n",
    "        videos = re.findall(\"(v_[\\w_]+\\.avi)\", index)\n",
    "        _VIDEO_LIST = sorted(set(videos))\n",
    "    return list(_VIDEO_LIST)\n",
    "  \n",
    "def path_modify(video):\n",
    "  action_dir = video.split('_')[1]\n",
    "  if action_dir == \"HandstandPushups\":\n",
    "      action_dir = \"HandStandPushups\"\n",
    "      text_list = video.split('_')\n",
    "      base_video_path = text_list[0]+ '_' + action_dir + '_' + text_list[2] + '_' + text_list[3]\n",
    "      print(base_video_path)\n",
    "      return base_video_path\n",
    "  \n",
    "  return video"
   ]
  },
  {
   "cell_type": "code",
   "execution_count": 37,
   "id": "ed0a9f69",
   "metadata": {},
   "outputs": [],
   "source": [
    "def fetch_ucf_action_list():\n",
    "  cache_list = []\n",
    "  video_list = list_ucf_videos()\n",
    "  for path in video_list:\n",
    "    action_dir = path.split('_')[1]\n",
    "    if action_dir == \"HandstandPushups\":\n",
    "      action_dir = \"HandStandPushups\"\n",
    "    cache_list.append(action_dir)\n",
    "  cache_list = set(cache_list)\n",
    "  cache_list = list(cache_list)\n",
    "  cache_list.sort()\n",
    "  return cache_list"
   ]
  },
  {
   "cell_type": "code",
   "execution_count": null,
   "id": "8620562e",
   "metadata": {},
   "outputs": [],
   "source": []
  },
  {
   "cell_type": "code",
   "execution_count": 38,
   "id": "3a9a43fa",
   "metadata": {},
   "outputs": [],
   "source": [
    "def flo_out(model,img1,img2,img3):#コードかえる\n",
    "  \n",
    "\n",
    "    \n",
    "  base_path_1 = os.path.splitext(os.path.basename(img1))[0]\n",
    "  base_path_2 = os.path.splitext(os.path.basename(img2))[0]\n",
    "  base_path_3 = os.path.splitext(os.path.basename(img3))[0]\n",
    "\n",
    "# D:\\GR_data\\capture_all_frame\\Fixed\\Archery\\frames_v_Archery_g02_c01\n",
    "#\"D:\\GR_data\\write_flow_folder\"\n",
    "\n",
    "  flo_root_folder = r\"D:\\GR_data\\write_flow_folder\" #変更可\n",
    "  split_path_list = img1.split(os.sep)\n",
    "  flo_dir_name = os.path.join(flo_root_folder,split_path_list[3],split_path_list[4],split_path_list[5])#変更可\n",
    "  \n",
    "  if not os.path.isdir(flo_dir_name):\n",
    "    os.makedirs(flo_dir_name)\n",
    "#     print(flo_dir_name)\n",
    "\n",
    "  flo_name_12 = os.path.join(flo_dir_name,base_path_1+base_path_2+\".flo\")\n",
    "#   print(flo_name_12)\n",
    "  flo_name_23 = os.path.join(flo_dir_name,base_path_2+base_path_3+\".flo\")\n",
    "#   print(flo_name_23)\n",
    "\n",
    "  if not os.path.exists(flo_name_12):\n",
    "    result_12 = inference_model(model, img1, img2)\n",
    "    write_flow(result_12,flow_file = flo_name_12)\n",
    "    \n",
    "  if not os.path.exists(flo_name_23):\n",
    "    result_23 = inference_model(model, img2, img3)\n",
    "    write_flow(result_23,flow_file = flo_name_23)\n",
    "\n",
    "  # visualize_flow(result_12, save_file='flow_map_12.png')\n",
    "  # visualize_flow(-result_12,save_file = 'flow_map_reverse.png')\n",
    "  # visualize_flow(result_23,save_file = \"flow_map_23.png\")\n",
    "  return flo_name_12,flo_name_23"
   ]
  },
  {
   "cell_type": "code",
   "execution_count": 39,
   "id": "3506fcea",
   "metadata": {},
   "outputs": [],
   "source": [
    "def remove_values_closeto_0(flow_map12,flow_map23):\n",
    "#   print(flow_map12)\n",
    "#   print(flow_map23)\n",
    "    \n",
    "  condition_12_1 = (flow_map12 < 0.01)\n",
    "  condition_12_2 = (flow_map12 > -0.01)\n",
    "  condition_12 = condition_12_1 & condition_12_2\n",
    "\n",
    "  condition_23_1 = (flow_map23 < 0.01)\n",
    "  condition_23_2 = (flow_map23 > 0.01)\n",
    "  condition_23 = condition_23_1 & condition_23_2\n",
    "\n",
    "  flow_map12[condition_12] = 0\n",
    "  flow_map23[condition_23] = 0\n",
    "\n",
    "  return flow_map12,flow_map23\n",
    "\n",
    "\n",
    "def read_2_flo(flow12_path,flow23_path):\n",
    "#   print(flow23_path)\n",
    "  flow_map12 = cv2.readOpticalFlow(flow12_path)\n",
    "  flow_map23 = cv2.readOpticalFlow(flow23_path)\n",
    "\n",
    "  flow_map12,flow_map23 = remove_values_closeto_0(flow_map12,flow_map23)\n",
    "\n",
    "\n",
    "  return flow_map12,flow_map23"
   ]
  },
  {
   "cell_type": "code",
   "execution_count": 40,
   "id": "c84ca2db",
   "metadata": {},
   "outputs": [],
   "source": [
    "def convert_nan_to_0(flow_magnitude):\n",
    "  nans = np.isnan(flow_magnitude)\n",
    "  if np.any(nans):\n",
    "      nans = np.where(nans)\n",
    "      flow_magnitude[nans] = 0.\n",
    "  \n",
    "  return flow_magnitude\n",
    "\n",
    "\n",
    "def flow_magnitude_out(flow_map12,flow_map23):\n",
    "  flow_map_12_channel_0 = flow_map12[:,:,0]\n",
    "  flow_map_12_channel_1 = flow_map12[:,:,1]\n",
    "  \n",
    "  flow_map_23_channel_0 = flow_map23[:,:,0]\n",
    "  flow_map_23_channel_1 = flow_map23[:,:,1]\n",
    "  \n",
    "  flow_magnitude_12, _ = cv2.cartToPolar(flow_map_12_channel_0, flow_map_12_channel_1)\n",
    "  flow_magnitude_23, _ = cv2.cartToPolar(flow_map_23_channel_0, flow_map_23_channel_1)\n",
    "  # A couple times, we've gotten NaNs out of the above...\n",
    "  \n",
    "  flow_magnitude_12 = convert_nan_to_0(flow_magnitude_12)\n",
    "  flow_magnitude_23 = convert_nan_to_0(flow_magnitude_23)\n",
    "\n",
    "  return flow_magnitude_12,flow_magnitude_23"
   ]
  },
  {
   "cell_type": "code",
   "execution_count": 41,
   "id": "9cedec0c",
   "metadata": {},
   "outputs": [],
   "source": [
    "def warp_second_frame_to_first(flow_map_origin,second_frame):\n",
    "  flow_map = copy.copy(flow_map_origin)\n",
    "  h,w = flow_map.shape[:2]\n",
    "  flow_map[:,:,0] += np.arange(w)#変換後の座標を指定\n",
    "  flow_map[:,:,1] += np.arange(h)[:,np.newaxis]\n",
    "  img2 = cv2.imread(second_frame)\n",
    "  warped_prevImg = cv2.remap(img2, flow_map, None, cv2.INTER_LINEAR)#INTER_NEAREST#INTER_AREA\n",
    "#   cv2.imwrite(\"warped_first_frame.png\",warped_prevImg)\n",
    "\n",
    "  return warped_prevImg"
   ]
  },
  {
   "cell_type": "code",
   "execution_count": null,
   "id": "36f8de75",
   "metadata": {},
   "outputs": [],
   "source": []
  },
  {
   "cell_type": "code",
   "execution_count": 42,
   "id": "06fea942",
   "metadata": {},
   "outputs": [],
   "source": [
    "def Fixed_list_ucf(classify = \"Fixed\",div = 0):\n",
    "    cache_list = []\n",
    "    action_list = fetch_ucf_action_list()\n",
    "\n",
    "    classify_dir = os.path.join(r\"D:\\GR_data\\capture_crop_256\",classify)#変更可\n",
    "    for action in action_list:\n",
    "        action_path = os.path.join(classify_dir,action)\n",
    "        each_video_list = os.listdir(action_path)\n",
    "        cache_list.append(each_video_list)\n",
    "    return np.hstack(cache_list)"
   ]
  },
  {
   "cell_type": "code",
   "execution_count": 43,
   "id": "3f3be6b5",
   "metadata": {},
   "outputs": [],
   "source": [
    "def frame_folder_full_path(folder_name,classify):#ex:file_name = v_ApplyEyeMakeup_g01_c01\n",
    "  #ex:folder_name = frames_v_BenchPress_g24_c04\n",
    "  action_dir = folder_name.split('_')[2]\n",
    "  folder_name = os.path.join(r\"D:\\GR_data\\capture_crop_256\",classify,action_dir,folder_name)#変更可\n",
    "  # folder_name = \"/content/drive/MyDrive/UCF101_every_frame/\" + classify + \"/\"+ action_dir + folder_name\n",
    "#   print(folder_name)\n",
    "  return folder_name"
   ]
  },
  {
   "cell_type": "code",
   "execution_count": null,
   "id": "cdf11422",
   "metadata": {},
   "outputs": [],
   "source": []
  },
  {
   "cell_type": "code",
   "execution_count": null,
   "id": "650741f7",
   "metadata": {},
   "outputs": [],
   "source": []
  },
  {
   "cell_type": "code",
   "execution_count": 44,
   "id": "276d1ee6",
   "metadata": {},
   "outputs": [],
   "source": [
    "def choice_three_frame(model):#()\n",
    "\n",
    "#Set the first 3 frames\n",
    "  img1 = r\"D:\\GR_data\\capture_crop_256\\Fixed\\PlayingDaf\\frames_v_PlayingDaf_g02_c04\\000010.png\"\n",
    "#   print(img1)\n",
    "  img2 = r\"D:\\GR_data\\capture_crop_256\\Fixed\\PlayingDaf\\frames_v_PlayingDaf_g02_c04\\000011.png\"\n",
    "#   print(img2)\n",
    "  img3 = r\"D:\\GR_data\\capture_crop_256\\Fixed\\PlayingDaf\\frames_v_PlayingDaf_g02_c04\\000012.png\"\n",
    "#   print(img3)\n",
    "\n",
    "\n",
    "    \n",
    "    \n",
    "  flo1 ,flo2 = flo_out(model,img1,img2,img3)#imgからflowをoutしてそのファイルpathを返す\n",
    "  flow_map12 ,flow_map23 = read_2_flo(flo1,flo2)\n",
    "  flow_magnitude_12,flow_magnitude_23 = flow_magnitude_out(flow_map12,flow_map23)\n",
    "\n",
    "\n",
    "  warped_prevImg2_to_1 = warp_second_frame_to_first(flow_map12,img2)\n",
    "  warped_prevImg3_to_2 = warp_second_frame_to_first(flow_map23,img3)\n",
    "  \n",
    "  warped_1_path = os.path.join(r\"C:\\Users\\hikar\\Documents\\graduation_research\\warped_frame\",\"warped_prevImg2_to_1.png\")\n",
    "  warped_2_path = os.path.join(r\"C:\\Users\\hikar\\Documents\\graduation_research\\warped_frame\",\"warped_prevImg3_to_2.png\")\n",
    "\n",
    "  cv2.imwrite(warped_1_path,warped_prevImg2_to_1)\n",
    "  cv2.imwrite(warped_2_path,warped_prevImg3_to_2)\n",
    "    \n",
    "  return flow_map12 ,flow_map23"
   ]
  },
  {
   "cell_type": "code",
   "execution_count": null,
   "id": "fe3696d1",
   "metadata": {},
   "outputs": [],
   "source": []
  },
  {
   "cell_type": "code",
   "execution_count": 45,
   "id": "850ff372",
   "metadata": {},
   "outputs": [
    {
     "name": "stdout",
     "output_type": "stream",
     "text": [
      "load checkpoint from local path: C:\\Users\\hikar\\Documents\\pwcnet_ft_4x1_300k_sintel_final_384x768.pth\n"
     ]
    }
   ],
   "source": [
    "# build the model from a config file and a checkpoint file\n",
    "model = init_model(config_file, checkpoint_file, device='cuda:0')"
   ]
  },
  {
   "cell_type": "code",
   "execution_count": 46,
   "id": "c4e87007",
   "metadata": {
    "scrolled": true
   },
   "outputs": [],
   "source": [
    "opticalflow_1,opticalflow_2 = choice_three_frame(model)"
   ]
  },
  {
   "cell_type": "code",
   "execution_count": null,
   "id": "abba51f8",
   "metadata": {},
   "outputs": [],
   "source": []
  },
  {
   "cell_type": "markdown",
   "id": "ab40acc6",
   "metadata": {},
   "source": [
    "Opticalflow visualize"
   ]
  },
  {
   "cell_type": "code",
   "execution_count": 47,
   "id": "45040020",
   "metadata": {},
   "outputs": [],
   "source": [
    "from mmflow.apis import init_model, inference_model\n",
    "from mmflow.datasets import visualize_flow, write_flow\n",
    "import mmcv"
   ]
  },
  {
   "cell_type": "code",
   "execution_count": 48,
   "id": "f45a1437",
   "metadata": {
    "scrolled": true
   },
   "outputs": [
    {
     "data": {
      "text/plain": [
       "array([[[243, 245, 255],\n",
       "        [243, 245, 255],\n",
       "        [243, 245, 255],\n",
       "        ...,\n",
       "        [255, 253, 247],\n",
       "        [255, 253, 247],\n",
       "        [255, 253, 247]],\n",
       "\n",
       "       [[243, 245, 255],\n",
       "        [243, 245, 255],\n",
       "        [243, 245, 255],\n",
       "        ...,\n",
       "        [255, 253, 247],\n",
       "        [255, 253, 247],\n",
       "        [255, 253, 247]],\n",
       "\n",
       "       [[243, 245, 255],\n",
       "        [243, 245, 255],\n",
       "        [243, 245, 255],\n",
       "        ...,\n",
       "        [255, 253, 247],\n",
       "        [255, 253, 247],\n",
       "        [255, 253, 247]],\n",
       "\n",
       "       ...,\n",
       "\n",
       "       [[250, 255, 250],\n",
       "        [250, 255, 250],\n",
       "        [250, 255, 250],\n",
       "        ...,\n",
       "        [255, 251, 251],\n",
       "        [255, 251, 251],\n",
       "        [255, 251, 251]],\n",
       "\n",
       "       [[250, 255, 250],\n",
       "        [250, 255, 250],\n",
       "        [250, 255, 250],\n",
       "        ...,\n",
       "        [255, 251, 250],\n",
       "        [255, 251, 250],\n",
       "        [255, 251, 250]],\n",
       "\n",
       "       [[250, 255, 250],\n",
       "        [250, 255, 250],\n",
       "        [250, 255, 250],\n",
       "        ...,\n",
       "        [255, 251, 250],\n",
       "        [255, 251, 250],\n",
       "        [255, 251, 250]]], dtype=uint8)"
      ]
     },
     "execution_count": 48,
     "metadata": {},
     "output_type": "execute_result"
    }
   ],
   "source": [
    "visualize_flow(opticalflow_1, save_file=r'C:\\Users\\hikar\\Documents\\graduation_research\\warped_frame\\flow_map_1.png')\n",
    "visualize_flow(opticalflow_2, save_file=r'C:\\Users\\hikar\\Documents\\graduation_research\\warped_frame\\flow_map_2.png')"
   ]
  }
 ],
 "metadata": {
  "kernelspec": {
   "display_name": "Python 3 (ipykernel)",
   "language": "python",
   "name": "python3"
  },
  "language_info": {
   "codemirror_mode": {
    "name": "ipython",
    "version": 3
   },
   "file_extension": ".py",
   "mimetype": "text/x-python",
   "name": "python",
   "nbconvert_exporter": "python",
   "pygments_lexer": "ipython3",
   "version": "3.7.13"
  }
 },
 "nbformat": 4,
 "nbformat_minor": 5
}
