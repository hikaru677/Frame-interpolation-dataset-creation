{
 "cells": [
  {
   "cell_type": "markdown",
   "id": "d7ab3fda",
   "metadata": {},
   "source": []
  },
  {
   "cell_type": "code",
   "execution_count": 1,
   "id": "d104e18a",
   "metadata": {},
   "outputs": [],
   "source": [
    "import shutil\n",
    "import os\n",
    "\n",
    "def merge_triplet(root_dir,classify,path_to_move):\n",
    "    classify_dir = os.path.join(root_dir,classify)\n",
    "    action_dirs = os.listdir(classify_dir)\n",
    "    for action_dir in action_dirs:\n",
    "        action_frame_dirs = os.listdir(os.path.join(classify_dir,action_dir))\n",
    "        for action_frame_dir in action_frame_dirs:#action_frame_dir = frames_v_ApplyEyeMakeup_g02_c01\n",
    "            frames_full_path = os.path.join(classify_dir,action_dir,action_frame_dir)\n",
    "            shutil.copytree(frames_full_path,os.path.join(path_to_move,action_frame_dir))#移動先のフォルダpath"
   ]
  },
  {
   "cell_type": "code",
   "execution_count": 2,
   "id": "04634219",
   "metadata": {},
   "outputs": [],
   "source": [
    "#D:\\GR_data\\frame_triplet_dir\\Fixed\\ApplyEyeMakeup\\frames_v_ApplyEyeMakeup_g02_c01\n",
    "\n",
    "path_to_move = r\"C:\\Users\\hikar\\mmediting\\data\\ucf_triplet_1o2x\\sequences\"\n",
    "root_dir = r\"D:\\GR_data\\frame_triplet_vimeo\"\n",
    "\n",
    "merge_triplet(root_dir,\"vimeo_1o2x\",path_to_move)\n",
    "# merge_triplet(root_dir,\"Unfixed\",path_to_move)"
   ]
  }
 ],
 "metadata": {
  "kernelspec": {
   "display_name": "Python 3 (ipykernel)",
   "language": "python",
   "name": "python3"
  },
  "language_info": {
   "codemirror_mode": {
    "name": "ipython",
    "version": 3
   },
   "file_extension": ".py",
   "mimetype": "text/x-python",
   "name": "python",
   "nbconvert_exporter": "python",
   "pygments_lexer": "ipython3",
   "version": "3.7.13"
  }
 },
 "nbformat": 4,
 "nbformat_minor": 5
}
