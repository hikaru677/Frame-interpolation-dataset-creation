{
  "nbformat": 4,
  "nbformat_minor": 0,
  "metadata": {
    "colab": {
      "provenance": [],
      "collapsed_sections": [
        "ZkijIboAcVb_"
      ],
      "authorship_tag": "ABX9TyPp+UE4WZ1T4U4zMQFzNS4i",
      "include_colab_link": true
    },
    "kernelspec": {
      "name": "python3",
      "display_name": "Python 3"
    },
    "language_info": {
      "name": "python"
    },
    "accelerator": "GPU",
    "gpuClass": "standard"
  },
  "cells": [
    {
      "cell_type": "markdown",
      "metadata": {
        "id": "view-in-github",
        "colab_type": "text"
      },
      "source": [
        "<a href=\"https://colab.research.google.com/github/hikaru677/Frame-interpolation-dataset-creation/blob/main/calc_flow_magnitude.ipynb\" target=\"_parent\"><img src=\"https://colab.research.google.com/assets/colab-badge.svg\" alt=\"Open In Colab\"/></a>"
      ]
    },
    {
      "cell_type": "markdown",
      "metadata": {
        "id": "ZkijIboAcVb_"
      },
      "source": [
        "# Setup and Import"
      ]
    },
    {
      "cell_type": "code",
      "execution_count": null,
      "metadata": {
        "colab": {
          "base_uri": "https://localhost:8080/"
        },
        "id": "XcXN6m-QJ8eU",
        "outputId": "95e87a3a-c965-4296-d186-b01f297a8e25"
      },
      "outputs": [
        {
          "output_type": "stream",
          "name": "stdout",
          "text": [
            "Mounted at /content/drive\n"
          ]
        }
      ],
      "source": [
        "from google.colab import drive\n",
        "drive.mount('/content/drive')\n",
        "import random\n",
        "import os\n",
        "import ssl\n",
        "import cv2\n",
        "import numpy as np\n",
        "import imageio\n",
        "from IPython import display\n",
        "from urllib import request\n",
        "import re\n",
        "import tempfile\n",
        "import math\n",
        "from tqdm.notebook import tqdm"
      ]
    },
    {
      "cell_type": "code",
      "execution_count": null,
      "metadata": {
        "id": "VPpDT1u_Ruq2"
      },
      "outputs": [],
      "source": [
        "! cd /content/drive"
      ]
    },
    {
      "cell_type": "code",
      "execution_count": null,
      "metadata": {
        "id": "SqIeS7vDKGRg",
        "colab": {
          "base_uri": "https://localhost:8080/"
        },
        "outputId": "5fd58c88-3f3d-4dad-8e16-409aa30dbc23"
      },
      "outputs": [
        {
          "output_type": "stream",
          "name": "stdout",
          "text": [
            "Looking in indexes: https://pypi.org/simple, https://us-python.pkg.dev/colab-wheels/public/simple/\n",
            "Requirement already satisfied: torch in /usr/local/lib/python3.7/dist-packages (1.12.1+cu113)\n",
            "Requirement already satisfied: typing-extensions in /usr/local/lib/python3.7/dist-packages (from torch) (4.1.1)\n",
            "Looking in indexes: https://pypi.org/simple, https://us-python.pkg.dev/colab-wheels/public/simple/\n",
            "Requirement already satisfied: torchvision in /usr/local/lib/python3.7/dist-packages (0.13.1+cu113)\n",
            "Requirement already satisfied: pillow!=8.3.*,>=5.3.0 in /usr/local/lib/python3.7/dist-packages (from torchvision) (7.1.2)\n",
            "Requirement already satisfied: numpy in /usr/local/lib/python3.7/dist-packages (from torchvision) (1.21.6)\n",
            "Requirement already satisfied: torch==1.12.1 in /usr/local/lib/python3.7/dist-packages (from torchvision) (1.12.1+cu113)\n",
            "Requirement already satisfied: typing-extensions in /usr/local/lib/python3.7/dist-packages (from torchvision) (4.1.1)\n",
            "Requirement already satisfied: requests in /usr/local/lib/python3.7/dist-packages (from torchvision) (2.23.0)\n",
            "Requirement already satisfied: chardet<4,>=3.0.2 in /usr/local/lib/python3.7/dist-packages (from requests->torchvision) (3.0.4)\n",
            "Requirement already satisfied: urllib3!=1.25.0,!=1.25.1,<1.26,>=1.21.1 in /usr/local/lib/python3.7/dist-packages (from requests->torchvision) (1.24.3)\n",
            "Requirement already satisfied: idna<3,>=2.5 in /usr/local/lib/python3.7/dist-packages (from requests->torchvision) (2.10)\n",
            "Requirement already satisfied: certifi>=2017.4.17 in /usr/local/lib/python3.7/dist-packages (from requests->torchvision) (2022.9.24)\n"
          ]
        }
      ],
      "source": [
        "! pip install torch\n",
        "! pip install torchvision"
      ]
    },
    {
      "cell_type": "code",
      "execution_count": null,
      "metadata": {
        "id": "6lD69gdhGDao",
        "colab": {
          "base_uri": "https://localhost:8080/"
        },
        "outputId": "f9903cf9-2108-49c6-feb4-28199b743060"
      },
      "outputs": [
        {
          "output_type": "stream",
          "name": "stdout",
          "text": [
            "Looking in indexes: https://pypi.org/simple, https://us-python.pkg.dev/colab-wheels/public/simple/\n",
            "Collecting openmim\n",
            "  Downloading openmim-0.3.3-py2.py3-none-any.whl (50 kB)\n",
            "\u001b[K     |████████████████████████████████| 50 kB 5.8 MB/s \n",
            "\u001b[?25hCollecting rich\n",
            "  Downloading rich-12.6.0-py3-none-any.whl (237 kB)\n",
            "\u001b[K     |████████████████████████████████| 237 kB 51.3 MB/s \n",
            "\u001b[?25hRequirement already satisfied: tabulate in /usr/local/lib/python3.7/dist-packages (from openmim) (0.8.10)\n",
            "Requirement already satisfied: pandas in /usr/local/lib/python3.7/dist-packages (from openmim) (1.3.5)\n",
            "Requirement already satisfied: Click in /usr/local/lib/python3.7/dist-packages (from openmim) (7.1.2)\n",
            "Requirement already satisfied: requests in /usr/local/lib/python3.7/dist-packages (from openmim) (2.23.0)\n",
            "Requirement already satisfied: pip>=19.3 in /usr/local/lib/python3.7/dist-packages (from openmim) (21.1.3)\n",
            "Collecting colorama\n",
            "  Downloading colorama-0.4.6-py2.py3-none-any.whl (25 kB)\n",
            "Collecting model-index\n",
            "  Downloading model_index-0.1.11-py3-none-any.whl (34 kB)\n",
            "Requirement already satisfied: pyyaml in /usr/local/lib/python3.7/dist-packages (from model-index->openmim) (6.0)\n",
            "Collecting ordered-set\n",
            "  Downloading ordered_set-4.1.0-py3-none-any.whl (7.6 kB)\n",
            "Requirement already satisfied: markdown in /usr/local/lib/python3.7/dist-packages (from model-index->openmim) (3.4.1)\n",
            "Requirement already satisfied: importlib-metadata>=4.4 in /usr/local/lib/python3.7/dist-packages (from markdown->model-index->openmim) (4.13.0)\n",
            "Requirement already satisfied: typing-extensions>=3.6.4 in /usr/local/lib/python3.7/dist-packages (from importlib-metadata>=4.4->markdown->model-index->openmim) (4.1.1)\n",
            "Requirement already satisfied: zipp>=0.5 in /usr/local/lib/python3.7/dist-packages (from importlib-metadata>=4.4->markdown->model-index->openmim) (3.10.0)\n",
            "Requirement already satisfied: numpy>=1.17.3 in /usr/local/lib/python3.7/dist-packages (from pandas->openmim) (1.21.6)\n",
            "Requirement already satisfied: python-dateutil>=2.7.3 in /usr/local/lib/python3.7/dist-packages (from pandas->openmim) (2.8.2)\n",
            "Requirement already satisfied: pytz>=2017.3 in /usr/local/lib/python3.7/dist-packages (from pandas->openmim) (2022.6)\n",
            "Requirement already satisfied: six>=1.5 in /usr/local/lib/python3.7/dist-packages (from python-dateutil>=2.7.3->pandas->openmim) (1.15.0)\n",
            "Requirement already satisfied: chardet<4,>=3.0.2 in /usr/local/lib/python3.7/dist-packages (from requests->openmim) (3.0.4)\n",
            "Requirement already satisfied: idna<3,>=2.5 in /usr/local/lib/python3.7/dist-packages (from requests->openmim) (2.10)\n",
            "Requirement already satisfied: urllib3!=1.25.0,!=1.25.1,<1.26,>=1.21.1 in /usr/local/lib/python3.7/dist-packages (from requests->openmim) (1.24.3)\n",
            "Requirement already satisfied: certifi>=2017.4.17 in /usr/local/lib/python3.7/dist-packages (from requests->openmim) (2022.9.24)\n",
            "Requirement already satisfied: pygments<3.0.0,>=2.6.0 in /usr/local/lib/python3.7/dist-packages (from rich->openmim) (2.6.1)\n",
            "Collecting commonmark<0.10.0,>=0.9.0\n",
            "  Downloading commonmark-0.9.1-py2.py3-none-any.whl (51 kB)\n",
            "\u001b[K     |████████████████████████████████| 51 kB 8.1 MB/s \n",
            "\u001b[?25hInstalling collected packages: ordered-set, commonmark, rich, model-index, colorama, openmim\n",
            "Successfully installed colorama-0.4.6 commonmark-0.9.1 model-index-0.1.11 openmim-0.3.3 ordered-set-4.1.0 rich-12.6.0\n",
            "Looking in indexes: https://pypi.org/simple, https://us-python.pkg.dev/colab-wheels/public/simple/\n",
            "Looking in links: https://download.openmmlab.com/mmcv/dist/cu113/torch1.12.0/index.html\n",
            "Collecting mmcv-full==1.6.0\n",
            "  Downloading https://download.openmmlab.com/mmcv/dist/cu113/torch1.12.0/mmcv_full-1.6.0-cp37-cp37m-manylinux1_x86_64.whl (40.1 MB)\n",
            "\u001b[K     |████████████████████████████████| 40.1 MB 1.4 MB/s \n",
            "\u001b[?25hRequirement already satisfied: opencv-python>=3 in /usr/local/lib/python3.7/dist-packages (from mmcv-full==1.6.0) (4.6.0.66)\n",
            "Requirement already satisfied: packaging in /usr/local/lib/python3.7/dist-packages (from mmcv-full==1.6.0) (21.3)\n",
            "Requirement already satisfied: numpy in /usr/local/lib/python3.7/dist-packages (from mmcv-full==1.6.0) (1.21.6)\n",
            "Collecting addict\n",
            "  Downloading addict-2.4.0-py3-none-any.whl (3.8 kB)\n",
            "Collecting yapf\n",
            "  Downloading yapf-0.32.0-py2.py3-none-any.whl (190 kB)\n",
            "\u001b[K     |████████████████████████████████| 190 kB 33.8 MB/s \n",
            "\u001b[?25hRequirement already satisfied: Pillow in /usr/local/lib/python3.7/dist-packages (from mmcv-full==1.6.0) (7.1.2)\n",
            "Requirement already satisfied: pyyaml in /usr/local/lib/python3.7/dist-packages (from mmcv-full==1.6.0) (6.0)\n",
            "Requirement already satisfied: pyparsing!=3.0.5,>=2.0.2 in /usr/local/lib/python3.7/dist-packages (from packaging->mmcv-full==1.6.0) (3.0.9)\n",
            "Installing collected packages: yapf, addict, mmcv-full\n",
            "Successfully installed addict-2.4.0 mmcv-full-1.6.0 yapf-0.32.0\n"
          ]
        }
      ],
      "source": [
        "!pip3 install openmim\n",
        "!mim install mmcv-full==1.6.0"
      ]
    },
    {
      "cell_type": "code",
      "execution_count": null,
      "metadata": {
        "id": "pTzWjJmjHcXZ",
        "colab": {
          "base_uri": "https://localhost:8080/"
        },
        "outputId": "9cdae491-93e5-487c-8531-bfe59823f4a1"
      },
      "outputs": [
        {
          "output_type": "stream",
          "name": "stdout",
          "text": [
            "Looking in indexes: https://pypi.org/simple, https://us-python.pkg.dev/colab-wheels/public/simple/\n",
            "Collecting mmflow\n",
            "  Downloading mmflow-0.5.1-py3-none-any.whl (294 kB)\n",
            "\u001b[K     |████████████████████████████████| 294 kB 29.6 MB/s \n",
            "\u001b[?25hRequirement already satisfied: matplotlib in /usr/local/lib/python3.7/dist-packages (from mmflow) (3.2.2)\n",
            "Requirement already satisfied: numpy in /usr/local/lib/python3.7/dist-packages (from mmflow) (1.21.6)\n",
            "Requirement already satisfied: six in /usr/local/lib/python3.7/dist-packages (from mmflow) (1.15.0)\n",
            "Requirement already satisfied: cycler>=0.10 in /usr/local/lib/python3.7/dist-packages (from matplotlib->mmflow) (0.11.0)\n",
            "Requirement already satisfied: pyparsing!=2.0.4,!=2.1.2,!=2.1.6,>=2.0.1 in /usr/local/lib/python3.7/dist-packages (from matplotlib->mmflow) (3.0.9)\n",
            "Requirement already satisfied: kiwisolver>=1.0.1 in /usr/local/lib/python3.7/dist-packages (from matplotlib->mmflow) (1.4.4)\n",
            "Requirement already satisfied: python-dateutil>=2.1 in /usr/local/lib/python3.7/dist-packages (from matplotlib->mmflow) (2.8.2)\n",
            "Requirement already satisfied: typing-extensions in /usr/local/lib/python3.7/dist-packages (from kiwisolver>=1.0.1->matplotlib->mmflow) (4.1.1)\n",
            "Installing collected packages: mmflow\n",
            "Successfully installed mmflow-0.5.1\n"
          ]
        }
      ],
      "source": [
        "! pip install mmflow"
      ]
    },
    {
      "cell_type": "code",
      "execution_count": null,
      "metadata": {
        "id": "1m2n_6KiIIOm",
        "colab": {
          "base_uri": "https://localhost:8080/"
        },
        "outputId": "fd0e7d57-9a09-4404-810d-db8fa291d132"
      },
      "outputs": [
        {
          "output_type": "stream",
          "name": "stdout",
          "text": [
            "processing pwcnet_ft_4x1_300k_sintel_final_384x768...\n",
            "\u001b[2Kdownloading \u001b[90m━━━━━━━━━━━━━━━━━━━━━━━━━━━━━━\u001b[0m \u001b[32m107.4/107.4 MiB\u001b[0m \u001b[31m22.4 MB/s\u001b[0m eta \u001b[36m0:00:00\u001b[0m\n",
            "\u001b[?25h\u001b[32mSuccessfully downloaded pwcnet_ft_4x1_300k_sintel_final_384x768.pth to /root/.cache/mim\u001b[0m\n",
            "\u001b[32mSuccessfully dumped pwcnet_ft_4x1_300k_sintel_final_384x768.py to /root/.cache/mim\u001b[0m\n"
          ]
        }
      ],
      "source": [
        "! mim download mmflow --config pwcnet_ft_4x1_300k_sintel_final_384x768"
      ]
    },
    {
      "cell_type": "code",
      "execution_count": null,
      "metadata": {
        "id": "qC6TNM6nImA4"
      },
      "outputs": [],
      "source": [
        "from mmflow.apis import init_model, inference_model\n",
        "from mmflow.datasets import visualize_flow, write_flow\n",
        "import mmcv\n",
        "config_file = '/root/.cache/mim/pwcnet_ft_4x1_300k_sintel_final_384x768.py'\n",
        "checkpoint_file = '/root/.cache/mim/pwcnet_ft_4x1_300k_sintel_final_384x768.pth'"
      ]
    },
    {
      "cell_type": "markdown",
      "metadata": {
        "id": "ns7pPPCGcrNu"
      },
      "source": [
        "# estimate"
      ]
    },
    {
      "cell_type": "code",
      "execution_count": null,
      "metadata": {
        "id": "JIF17BVaIn_e",
        "colab": {
          "base_uri": "https://localhost:8080/"
        },
        "outputId": "60319642-3125-4d74-c8fe-20279982ddbb"
      },
      "outputs": [
        {
          "output_type": "stream",
          "name": "stdout",
          "text": [
            "load checkpoint from local path: /root/.cache/mim/pwcnet_ft_4x1_300k_sintel_final_384x768.pth\n"
          ]
        },
        {
          "output_type": "stream",
          "name": "stderr",
          "text": [
            "/usr/local/lib/python3.7/dist-packages/torch/functional.py:478: UserWarning: torch.meshgrid: in an upcoming release, it will be required to pass the indexing argument. (Triggered internally at  ../aten/src/ATen/native/TensorShape.cpp:2894.)\n",
            "  return _VF.meshgrid(tensors, **kwargs)  # type: ignore[attr-defined]\n"
          ]
        }
      ],
      "source": [
        "# build the model from a config file and a checkpoint file\n",
        "model = init_model(config_file, checkpoint_file, device='cuda:0')\n",
        "\n",
        "# test image pair, and save the results\n",
        "img1='/content/drive/MyDrive/UCF101_every_frame/Fixed/ApplyEyeMakeup/frames_v_ApplyEyeMakeup_g01_c01/000001.png'\n",
        "img2='/content/drive/MyDrive/UCF101_every_frame/Fixed/ApplyEyeMakeup/frames_v_ApplyEyeMakeup_g01_c01/000002.png'\n",
        "result = inference_model(model, img1, img2)\n",
        "# save the optical flow file\n",
        "write_flow(result, flow_file='flow.flo')\n",
        "# # save the visualized flow map\n",
        "flow_map = visualize_flow(result, save_file='flow_map.png')"
      ]
    },
    {
      "cell_type": "code",
      "source": [
        "flow_map = cv2.readOpticalFlow(\"flow.flo\")\n",
        "condition1 = (flow_map < 0.01)\n",
        "condition2 = (flow_map > -0.01)\n",
        "condition = condition1 & condition2\n",
        "\n",
        "flow_map[condition] = 0\n",
        "\n",
        "flow_map_channel_0 = flow_map[:,:,0]\n",
        "flow_map_channel_1 = flow_map[:,:,1]\n",
        "print(flow_map.shape)"
      ],
      "metadata": {
        "colab": {
          "base_uri": "https://localhost:8080/"
        },
        "id": "fjrNC7srnHEE",
        "outputId": "4ec09c20-3b5b-458a-d936-e44436d4c041"
      },
      "execution_count": null,
      "outputs": [
        {
          "output_type": "stream",
          "name": "stdout",
          "text": [
            "(240, 320, 2)\n"
          ]
        }
      ]
    },
    {
      "cell_type": "code",
      "source": [
        "flow_magnitude, _ = cv2.cartToPolar(flow_map_channel_0, flow_map_channel_1)\n",
        "\n",
        "# A couple times, we've gotten NaNs out of the above...\n",
        "nans = np.isnan(flow_magnitude)\n",
        "if np.any(nans):\n",
        "    nans = np.where(nans)\n",
        "    flow_magnitude[nans] = 0.\n"
      ],
      "metadata": {
        "id": "hKAuPCjbO57D",
        "colab": {
          "base_uri": "https://localhost:8080/"
        },
        "outputId": "ac168aee-1105-4048-dd78-e6b2f0424ece"
      },
      "execution_count": null,
      "outputs": [
        {
          "output_type": "stream",
          "name": "stdout",
          "text": [
            "False\n"
          ]
        }
      ]
    },
    {
      "cell_type": "code",
      "source": [
        "np.sqrt((flow_map_channel_0[0,0])**2 + (flow_map_channel_1[0,0])**2)"
      ],
      "metadata": {
        "colab": {
          "base_uri": "https://localhost:8080/"
        },
        "id": "XmollL4Ri9Ay",
        "outputId": "8f7ea01a-7700-4af5-ab58-65258f52b2c3"
      },
      "execution_count": null,
      "outputs": [
        {
          "output_type": "execute_result",
          "data": {
            "text/plain": [
              "0.21235418672815243"
            ]
          },
          "metadata": {},
          "execution_count": 25
        }
      ]
    },
    {
      "cell_type": "code",
      "source": [
        "flow_magnitude"
      ],
      "metadata": {
        "colab": {
          "base_uri": "https://localhost:8080/"
        },
        "id": "MjoL92N3hi7A",
        "outputId": "dda22707-577e-4b73-f085-d68d037c2f86"
      },
      "execution_count": null,
      "outputs": [
        {
          "output_type": "execute_result",
          "data": {
            "text/plain": [
              "array([[0.21235418, 0.21235418, 0.19822504, ..., 0.31029785, 0.31658843,\n",
              "        0.31658843],\n",
              "       [0.21095131, 0.21095131, 0.19690162, ..., 0.31012207, 0.31643447,\n",
              "        0.31643447],\n",
              "       [0.19364929, 0.19364929, 0.18058035, ..., 0.3079982 , 0.3145934 ,\n",
              "        0.3145934 ],\n",
              "       ...,\n",
              "       [0.08942665, 0.08942665, 0.08647271, ..., 0.20771086, 0.20938304,\n",
              "        0.20938304],\n",
              "       [0.09487536, 0.09487536, 0.09117741, ..., 0.20699666, 0.2077615 ,\n",
              "        0.2077615 ],\n",
              "       [0.09531953, 0.09531953, 0.09156311, ..., 0.2069289 , 0.20763001,\n",
              "        0.20763001]], dtype=float32)"
            ]
          },
          "metadata": {},
          "execution_count": 17
        }
      ]
    },
    {
      "cell_type": "code",
      "source": [
        "np.count_nonzero(flow_magnitude > 3)"
      ],
      "metadata": {
        "colab": {
          "base_uri": "https://localhost:8080/"
        },
        "id": "uW-sQIKflusH",
        "outputId": "7a2aba22-ee86-43f2-c291-33b8270f05bb"
      },
      "execution_count": null,
      "outputs": [
        {
          "output_type": "execute_result",
          "data": {
            "text/plain": [
              "4178"
            ]
          },
          "metadata": {},
          "execution_count": 28
        }
      ]
    },
    {
      "cell_type": "code",
      "source": [
        "flow_map.shape[0] * flow_map.shape[1]# 240*320=76800"
      ],
      "metadata": {
        "colab": {
          "base_uri": "https://localhost:8080/"
        },
        "id": "tVwOAWfstTBG",
        "outputId": "41452b0f-9983-44a8-d528-e0bdd5c1fa79"
      },
      "execution_count": null,
      "outputs": [
        {
          "output_type": "execute_result",
          "data": {
            "text/plain": [
              "76800"
            ]
          },
          "metadata": {},
          "execution_count": 33
        }
      ]
    },
    {
      "cell_type": "code",
      "source": [],
      "metadata": {
        "id": "QBOl4e13tw8b"
      },
      "execution_count": null,
      "outputs": []
    },
    {
      "cell_type": "code",
      "source": [
        "np.where(flow_magnitude > 3)"
      ],
      "metadata": {
        "colab": {
          "base_uri": "https://localhost:8080/"
        },
        "id": "34K30MMZmYLQ",
        "outputId": "042abd63-8dc0-496f-9d98-873f970e3a90"
      },
      "execution_count": null,
      "outputs": [
        {
          "output_type": "execute_result",
          "data": {
            "text/plain": [
              "(array([ 61,  61,  61, ..., 150, 150, 150]),\n",
              " array([206, 207, 208, ..., 239, 240, 241]))"
            ]
          },
          "metadata": {},
          "execution_count": 29
        }
      ]
    },
    {
      "cell_type": "code",
      "source": [
        "flow_magnitude[61,207]"
      ],
      "metadata": {
        "colab": {
          "base_uri": "https://localhost:8080/"
        },
        "id": "8Qjqpl6QnmAR",
        "outputId": "234f0556-f8d2-4782-d80a-a5a03540c2d5"
      },
      "execution_count": null,
      "outputs": [
        {
          "output_type": "execute_result",
          "data": {
            "text/plain": [
              "3.047536"
            ]
          },
          "metadata": {},
          "execution_count": 31
        }
      ]
    },
    {
      "cell_type": "code",
      "source": [
        "def flow_mag_stats(flow):\n",
        "    \"\"\"Get the average flow magnitude from a flow field.\n",
        "    Args:\n",
        "        flow: optical flow\n",
        "    Returns:\n",
        "        Average flow magnitude\n",
        "    \"\"\"\n",
        "    # Convert the u,v flow field to angle,magnitude vector representation\n",
        "    flow_magnitude, _ = cv2.cartToPolar(flow[..., 0], flow[..., 1])\n",
        "\n",
        "    # A couple times, we've gotten NaNs out of the above...\n",
        "    nans = np.isnan(flow_magnitude)\n",
        "    if np.any(nans):\n",
        "        nans = np.where(nans)\n",
        "        flow_magnitude[nans] = 0.\n",
        "\n",
        "    return np.min(flow_magnitude), np.mean(flow_magnitude), np.max(flow_magnitude)\n"
      ],
      "metadata": {
        "id": "PM289ZvqbMv0"
      },
      "execution_count": null,
      "outputs": []
    },
    {
      "cell_type": "code",
      "execution_count": null,
      "metadata": {
        "id": "OVsFTltWrjr5"
      },
      "outputs": [],
      "source": [
        "def crop_square(frame):\n",
        "    x, y = frame.shape[0:2]\n",
        "    min_dim = min(x, y)\n",
        "    start_x = 0\n",
        "    start_y = 0\n",
        "    return frame[start_x:start_x+min_dim, start_y:start_y+min_dim]\n",
        "\n",
        "def load_video(path, resize=(64, 64)):\n",
        "    cap = cv2.VideoCapture(path)\n",
        "    max_frames = int(cap.get(cv2.CAP_PROP_FRAME_COUNT))\n",
        "    frames = []\n",
        "    try:\n",
        "        while True:\n",
        "            ret, frame = cap.read()\n",
        "            if not ret:\n",
        "                break\n",
        "            frame = crop_center_square(frame)\n",
        "            frame = cv2.resize(frame, resize)\n",
        "            frames.append(frame)\n",
        "            if len(frames) == max_frames:\n",
        "                break\n",
        "    finally:\n",
        "        cap.release()\n",
        "    return np.array(frames)\n"
      ]
    }
  ]
}